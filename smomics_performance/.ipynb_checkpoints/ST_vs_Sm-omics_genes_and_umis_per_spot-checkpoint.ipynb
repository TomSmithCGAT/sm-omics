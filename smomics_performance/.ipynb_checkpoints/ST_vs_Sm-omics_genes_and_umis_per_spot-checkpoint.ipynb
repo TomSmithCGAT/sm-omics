{
 "cells": [
  {
   "cell_type": "markdown",
   "metadata": {},
   "source": [
    "Example of script to make a violin plot of number of UMI per spot.<br>\n",
    "\n",
    "Input files are downsampled.<br>\n",
    "\n",
    "data files needed to run are available at SCP: https://singlecell.broadinstitute.org/single_cell/study/SCP979/<br>\n",
    "please download:<br>\n",
    "10005CN48_C1_downsamp.tsv <br>\n",
    "10005CN48_D1_downsamp.tsv <br>\n",
    "10005CN48_E1_downsamp.tsv <br>\n",
    "10015CN60_E2_downsamp.tsv <br>\n",
    "10015CN84_C2_downsamp.tsv <br>\n",
    "10015CN84_D2_downsamp.tsv <br>\n",
    "10005CN48_C1_stdata_under_tissue_IDs.txt <br>\n",
    "10005CN48_D1_stdata_under_tissue_IDs.txt <br>\n",
    "10005CN48_E1_stdata_under_tissue_IDs.txt <br>\n",
    "10015CN60_E2_stdata_under_tissue_IDs.txt <br>\n",
    "10015CN84_C2_stdata_under_tissue_IDs.txt <br>\n",
    "10015CN84_D2_stdata_under_tissue_IDs.txt<br>"
   ]
  },
  {
   "cell_type": "code",
   "execution_count": 1,
   "metadata": {},
   "outputs": [],
   "source": [
    "%matplotlib inline\n",
    "import os\n",
    "import pandas as pd\n",
    "import matplotlib.pyplot as plt\n",
    "import seaborn as sns\n",
    "import numpy as np\n",
    "import glob\n",
    "import matplotlib as mpl\n",
    "import matplotlib.patches as mpatches"
   ]
  },
  {
   "cell_type": "code",
   "execution_count": 24,
   "metadata": {},
   "outputs": [],
   "source": [
    "from matplotlib.text import Text\n",
    "from matplotlib import transforms, lines\n",
    "import matplotlib.transforms as mtransforms\n",
    "from matplotlib.font_manager import FontProperties\n",
    "from seaborn.utils import remove_na\n",
    "\n",
    "from scipy import stats\n",
    "DEFAULT = object()\n",
    "\n",
    "\n",
    "def stat_test(box_data1, box_data2, test):\n",
    "    test_short_name = ''\n",
    "    formatted_output = None\n",
    "    if test == 'Wilcoxon':\n",
    "        u_stat, pval = stats.ranksums(box_data1, box_data2)\n",
    "        test_short_name = 'Wilcox'\n",
    "        formatted_output = (\"Wilcoxon test P_val={:.3e} U_stat={:.3e}\"\n",
    "                           .format(pval, u_stat))\n",
    "        \n",
    "    elif test == 'ttest':\n",
    "        u_stat, pval = stats.ttest_ind(box_data1, box_data2, equal_var=False)\n",
    "        test_short_name = 'T-test'\n",
    "        formatted_output = (\"T-test P_val={:.3e} U_stat={:.3e}\"\n",
    "                           .format(pval, u_stat))\n",
    "    return pval, u_stat,formatted_output, test_short_name\n",
    "\n",
    "\n",
    "def pval_annotation_text(x, pvalue_thresholds):\n",
    "    singleValue = False\n",
    "    if type(x) is np.array:\n",
    "        x1 = x\n",
    "    else:\n",
    "        x1 = np.array([x])\n",
    "        singleValue = True\n",
    "    # Sort the threshold array\n",
    "    pvalue_thresholds = pd.DataFrame(pvalue_thresholds).sort_values(by=0, ascending=False).values\n",
    "    x_annot = pd.Series([\"\" for _ in range(len(x1))])\n",
    "    for i in range(0, len(pvalue_thresholds)):\n",
    "        if (i < len(pvalue_thresholds)-1):\n",
    "            condition = (x1 <= pvalue_thresholds[i][0]) & (pvalue_thresholds[i+1][0] < x1)\n",
    "            x_annot[condition] = pvalue_thresholds[i][1]\n",
    "        else:\n",
    "            condition = x1 < pvalue_thresholds[i][0]\n",
    "            x_annot[condition] = pvalue_thresholds[i][1]\n",
    "\n",
    "    return x_annot if not singleValue else x_annot.iloc[0]\n",
    "\n",
    "\n",
    "def simple_text(pval, pvalue_format, pvalue_thresholds, test_short_name=None):\n",
    "    \"\"\"\n",
    "    Generates simple text for test name and pvalue\n",
    "    :param pval: pvalue\n",
    "    :param pvalue_format: format string for pvalue\n",
    "    :param test_short_name: Short name of test to show\n",
    "    :param pvalue_thresholds: String to display per pvalue range\n",
    "    :return: simple annotation\n",
    "    \"\"\"\n",
    "    # Sort thresholds\n",
    "    thresholds = sorted(pvalue_thresholds, key=lambda x: x[0])\n",
    "\n",
    "    # Test name if passed\n",
    "    text = test_short_name and test_short_name + \" \" or \"\"\n",
    "\n",
    "    for threshold in thresholds:\n",
    "        if pval < threshold[0]:\n",
    "            pval_text = \"p ≤ {}\".format(threshold[1])\n",
    "            break\n",
    "    else:\n",
    "        pval_text = \"p = {}\".format(pvalue_format).format(pval)\n",
    "\n",
    "    #return text + pval_text\n",
    "    return pval_text\n",
    "\n",
    "\n",
    "def add_stat_annotation(ax,\n",
    "                        data=None, x=None, y=None, hue=None, order=None, hue_order=None,\n",
    "                        box_pairs=None,\n",
    "                        test='t-test_welch', text_format='star', pvalue_format_string=DEFAULT,\n",
    "                        loc='inside', show_test_name=True, pvalue_thresholds=DEFAULT,\n",
    "                        use_fixed_offset=False, line_offset_to_box=None, line_offset=None,\n",
    "                        line_height=0.02, text_offset=1, stack=True,\n",
    "                        color='0.2', linewidth=1.5, fontsize='medium', verbose=1):\n",
    "    \"\"\"\n",
    "    User should use the same argument for the data, x, y, hue, order, hue_order as the seaborn boxplot function.\n",
    "    line_height is in axes fraction coordinates.\n",
    "    text_offset is in points.\n",
    "    box_pairs can be of either form:\n",
    "    For non-grouped boxplot: [(cat1, cat2), (cat3, cat4)]\n",
    "    For boxplot grouped by hue: [((cat1, hue1), (cat2, hue2)), ((cat3, hue3), (cat4, hue4))]\n",
    "    Default pvalue_format_string is \"{.3e}\".\n",
    "    pvalue_thresholds is a list of lists or tuples. Default is:\n",
    "    For \"star\" text_format:\n",
    "        [[1e-4, \"****\"], [1e-3, \"***\"], [1e-2, \"**\"], [0.05, \"*\"], [1, \"ns\"]]\n",
    "    For \"simple\" text_format :\n",
    "        [[1e-5, \"1e-5\"], [1e-4, \"1e-4\"], [1e-3, \"0.001\"], [1e-2, \"0.01\"]]\n",
    "    \"\"\"\n",
    "\n",
    "    def find_x_position_box(box_plotter, boxName):\n",
    "        \"\"\"\n",
    "        boxName can be either a name \"cat\" or a tuple (\"cat\", \"hue\")\n",
    "        \"\"\"\n",
    "        if box_plotter.plot_hues is None:\n",
    "            cat = boxName\n",
    "            hueOffset = 0\n",
    "        else:\n",
    "            cat = boxName[0]\n",
    "            hue = boxName[1]\n",
    "            hueOffset = box_plotter.hue_offsets[box_plotter.hue_names.index(hue)]\n",
    "\n",
    "        groupPos = box_plotter.group_names.index(cat)\n",
    "        boxPos = groupPos + hueOffset\n",
    "        return boxPos\n",
    "\n",
    "\n",
    "    def get_box_data(box_plotter, boxName):\n",
    "        \"\"\"\n",
    "        boxName can be either a name \"cat\" or a tuple (\"cat\", \"hue\")\n",
    "        Here we really have to duplicate seaborn code, because there is not direct access to the\n",
    "        box_data in the BoxPlotter class.\n",
    "        \"\"\"\n",
    "        if box_plotter.plot_hues is None:\n",
    "            cat = boxName\n",
    "        else:\n",
    "            cat = boxName[0]\n",
    "            hue = boxName[1]\n",
    "\n",
    "        i = box_plotter.group_names.index(cat)\n",
    "        group_data = box_plotter.plot_data[i]\n",
    "\n",
    "        if box_plotter.plot_hues is None:\n",
    "            # Draw a single box or a set of boxes\n",
    "            # with a single level of grouping\n",
    "            box_data = remove_na(group_data)\n",
    "        else:\n",
    "            hue_level = hue\n",
    "            hue_mask = box_plotter.plot_hues[i] == hue_level\n",
    "            box_data = remove_na(group_data[hue_mask])\n",
    "\n",
    "        return box_data\n",
    "\n",
    "    # Set default values if necessary\n",
    "    if pvalue_format_string is DEFAULT:\n",
    "        pvalue_format_string = '{:.3e}'\n",
    "        simple_format_string = '{:.2f}'\n",
    "    else:\n",
    "        simple_format_string = pvalue_format_string\n",
    "\n",
    "    if pvalue_thresholds is DEFAULT:\n",
    "        if text_format == \"star\":\n",
    "            pvalue_thresholds = [[1e-4, \"****\"], [1e-3, \"***\"],\n",
    "                                 [1e-2, \"**\"], [0.05, \"*\"], [1, \"ns\"]]\n",
    "        else:\n",
    "            pvalue_thresholds = [[1e-5, \"1e-5\"], [1e-4, \"1e-4\"],\n",
    "                                 [1e-3, \"0.001\"], [1e-2, \"0.01\"]]\n",
    "    \n",
    "    fig = plt.gcf()\n",
    "\n",
    "    valid_list = ['inside', 'outside']\n",
    "    if loc not in valid_list:\n",
    "        raise ValueError(\"loc value should be one of the following: {}.\".format(', '.join(valid_list)))\n",
    "    valid_list = ['Wilcoxon', 'ttest']\n",
    "    if test not in valid_list:\n",
    "        raise ValueError(\"test value should be one of the following: {}.\".format(', '.join(valid_list)))\n",
    "\n",
    "    if verbose >= 1 and text_format == 'star':\n",
    "        print(\"pvalue annotation legend:\")\n",
    "        pvalue_thresholds = pd.DataFrame(pvalue_thresholds).sort_values(by=0, ascending=False).values\n",
    "        for i in range(0, len(pvalue_thresholds)):\n",
    "            if (i < len(pvalue_thresholds)-1):\n",
    "                print('{}: {:.2e} < p <= {:.2e}'.format(pvalue_thresholds[i][1], pvalue_thresholds[i+1][0], pvalue_thresholds[i][0]))\n",
    "            else:\n",
    "                print('{}: p <= {:.2e}'.format(pvalue_thresholds[i][1], pvalue_thresholds[i][0]))\n",
    "        print()\n",
    "\n",
    "    # Create the same BoxPlotter object as seaborn's boxplot\n",
    "    box_plotter = sns.categorical._BoxPlotter(x, y, hue, data, order, hue_order,\n",
    "                                              orient=None, width=.8, color=None, palette=None, saturation=.75,\n",
    "                                              dodge=True, fliersize=5, linewidth=None)\n",
    "    print(box_plotter.group_names, box_plotter.hue_names)\n",
    "    ylim = ax.get_ylim()\n",
    "    yrange = ylim[1] - ylim[0]\n",
    "\n",
    "    if line_offset is None:\n",
    "        if loc == 'inside':\n",
    "            line_offset = 0.05\n",
    "            if line_offset_to_box is None:\n",
    "                line_offset_to_box = 0.06\n",
    "        elif loc == 'outside':\n",
    "            line_offset = 0.03\n",
    "            line_offset_to_box = line_offset\n",
    "    else:\n",
    "        if loc == 'inside':\n",
    "            if line_offset_to_box is None:\n",
    "                line_offset_to_box = 0.06\n",
    "        elif loc == 'outside':\n",
    "            line_offset_to_box = line_offset\n",
    "    y_offset = line_offset*yrange\n",
    "    y_offset_to_box = line_offset_to_box*yrange\n",
    "\n",
    "    y_stack = []\n",
    "    annList = []\n",
    "    test_result_list = []\n",
    "    for box1, box2 in box_pairs:\n",
    "\n",
    "        valid = None\n",
    "        group_names = box_plotter.group_names\n",
    "        hue_names = box_plotter.hue_names\n",
    "        if box_plotter.plot_hues is None:\n",
    "            cat1 = box1\n",
    "            cat2 = box2\n",
    "            hue1 = None\n",
    "            hue2 = None\n",
    "            label1 = '{}'.format(cat1)\n",
    "            label2 = '{}'.format(cat2)\n",
    "            valid = cat1 in group_names and cat2 in group_names\n",
    "        else:\n",
    "            cat1 = box1[0]\n",
    "            hue1 = box1[1]\n",
    "            cat2 = box2[0]\n",
    "            hue2 = box2[1]\n",
    "            label1 = '{}_{}'.format(cat1, hue1)\n",
    "            label2 = '{}_{}'.format(cat2, hue2)\n",
    "            valid = cat1 in group_names and cat2 in group_names and hue1 in hue_names and hue2 in hue_names\n",
    "\n",
    "        if valid:\n",
    "            # Get position of boxes\n",
    "            x1 = find_x_position_box(box_plotter, box1)\n",
    "            x2 = find_x_position_box(box_plotter, box2)\n",
    "            box_data1 = get_box_data(box_plotter, box1)\n",
    "            box_data2 = get_box_data(box_plotter, box2)\n",
    "            ymax1 = box_data1.max()\n",
    "            ymax2 = box_data2.max()\n",
    "\n",
    "            pval, u_stat,formatted_output, test_short_name = stat_test(box_data1, box_data2, test)\n",
    "            test_result_list.append({'pvalue':pval, 'test_short_name':test_short_name,\n",
    "                                   'formatted_output':formatted_output, 'box1':box1, 'box2':box2})\n",
    "            if verbose >= 1:\n",
    "                print(\"{} v.s. {}: {}\".format(label1, label2, formatted_output))\n",
    "\n",
    "            if text_format == 'full':\n",
    "                text = \"{} p = {}\".format('{}', pvalue_format_string).format(test_short_name, pval)\n",
    "            elif text_format is None:\n",
    "                text = None\n",
    "            elif text_format is 'star':\n",
    "                text = pval_annotation_text(pval, pvalue_thresholds)\n",
    "            elif text_format is 'simple':\n",
    "                test_short_name = show_test_name and test_short_name or \"\"\n",
    "                text = simple_text(pval, simple_format_string, pvalue_thresholds,\n",
    "                                   test_short_name)\n",
    "\n",
    "            if loc == 'inside':\n",
    "                yref = max(ymax1, ymax2)\n",
    "            elif loc == 'outside':\n",
    "                yref = ylim[1]\n",
    "\n",
    "            if stack:\n",
    "                if len(y_stack) > 0:\n",
    "                    yref2 = max(yref, max(y_stack))\n",
    "                else:\n",
    "                    yref2 = yref\n",
    "            else:\n",
    "                yref2 = yref\n",
    "\n",
    "            if len(y_stack) == 0:\n",
    "                y = yref2 + y_offset_to_box\n",
    "            else:\n",
    "                y = yref2 + y_offset\n",
    "            h = line_height*yrange\n",
    "            lineX, lineY = [x1, x1, x2, x2], [y, y + h, y + h, y]\n",
    "            if loc == 'inside':\n",
    "                ax.plot(lineX, lineY, lw=linewidth, c=color)\n",
    "            elif loc == 'outside':\n",
    "                line = lines.Line2D(lineX, lineY, lw=linewidth, c=color, transform=ax.transData)\n",
    "                line.set_clip_on(False)\n",
    "                ax.add_line(line)\n",
    "\n",
    "            if text is not None:\n",
    "                ann = ax.annotate(text, xy=(np.mean([x1, x2]), y + h),\n",
    "                                  xytext=(0, text_offset), textcoords='offset points',\n",
    "                                  xycoords='data', ha='center', va='bottom', fontsize=fontsize,\n",
    "                                  clip_on=False, annotation_clip=False)\n",
    "                annList.append(ann)\n",
    "\n",
    "            ax.set_ylim((ylim[0], 1.1*(y + h)))\n",
    "\n",
    "            if text is not None:\n",
    "                plt.draw()\n",
    "                y_top_annot = None\n",
    "                got_mpl_error = False\n",
    "                if not use_fixed_offset:\n",
    "                    try:\n",
    "                        bbox = ann.get_window_extent()\n",
    "                        bbox_data = bbox.transformed(ax.transData.inverted())\n",
    "                        y_top_annot = bbox_data.ymax\n",
    "                    except RuntimeError:\n",
    "                        got_mpl_error = True\n",
    "\n",
    "                if use_fixed_offset or got_mpl_error:\n",
    "                    if verbose >= 1:\n",
    "                        print(\"Warning: cannot get the text bounding box. Falling back to a fixed y offset. Layout may be not optimal.\")\n",
    "                    # We will apply a fixed offset in points, based on the font size of the annotation.\n",
    "                    fontsize_points = FontProperties(size='medium').get_size_in_points()\n",
    "                    offsetTrans = mtransforms.offset_copy(ax.transData, fig=fig,\n",
    "                                                          x=0, y=1.0*fontsize_points + text_offset, units='points')\n",
    "                    yTopDisplay = offsetTrans.transform((0, y + h))\n",
    "                    y_top_annot = ax.transData.inverted().transform(yTopDisplay)[1]\n",
    "            else:\n",
    "                y_top_annot = y + h\n",
    "\n",
    "            y_stack.append(y_top_annot)\n",
    "        else:\n",
    "            raise ValueError(\"box_pairs contains an unvalid box pair.\")\n",
    "            pass\n",
    "\n",
    "    y_stack_max = max(y_stack)\n",
    "    if loc == 'inside':\n",
    "        ax.set_ylim((ylim[0], 1.03*y_stack_max))\n",
    "    elif loc == 'outside':\n",
    "        ax.set_ylim((ylim[0], ylim[1]))\n",
    "\n",
    "    return ax, test_result_list"
   ]
  },
  {
   "cell_type": "code",
   "execution_count": 3,
   "metadata": {},
   "outputs": [],
   "source": [
    "def condition(row):\n",
    "    \"\"\" Takes row in pandas df as input and returns type of condition\n",
    "    \"\"\"\n",
    "    # The samples are run in triplicate based on condition\n",
    "    condition = ['sm-omics', 'ST']\n",
    "\n",
    "    if row['index'] in ['10015CN84_D2', '10015CN84_C2', '10015CN60_E2']:\n",
    "        return condition[0]\n",
    "        \n",
    "    elif row['index'] in ['10005CN48_C1', '10005CN48_D1', '10005CN48_E1']:\n",
    "        return condition[1]"
   ]
  },
  {
   "cell_type": "code",
   "execution_count": 4,
   "metadata": {},
   "outputs": [],
   "source": [
    "# Make a sample-condition dictionary\n",
    "sam_cond = {'ST': ['10005CN48_C1', '10005CN48_D1', '10005CN48_E1'],\n",
    "           'sm-omics':['10015CN84_D2', '10015CN84_C2', '10015CN60_E2']}\n",
    "\n"
   ]
  },
  {
   "cell_type": "code",
   "execution_count": 5,
   "metadata": {},
   "outputs": [],
   "source": [
    "# check current wd"
   ]
  },
  {
   "cell_type": "code",
   "execution_count": 6,
   "metadata": {},
   "outputs": [
    {
     "data": {
      "text/plain": [
       "'/Users/svickovi/Desktop/sm-omics/smomics_performance'"
      ]
     },
     "execution_count": 6,
     "metadata": {},
     "output_type": "execute_result"
    }
   ],
   "source": [
    "os.getcwd()"
   ]
  },
  {
   "cell_type": "code",
   "execution_count": 7,
   "metadata": {},
   "outputs": [],
   "source": [
    "#os.chdir('./')"
   ]
  },
  {
   "cell_type": "code",
   "execution_count": 8,
   "metadata": {
    "scrolled": true
   },
   "outputs": [],
   "source": [
    "'Reads in tsv counts files'\n",
    "path = '../../smomics_data/'\n",
    "\n",
    "samples_list = ['10005CN48_C1', '10005CN48_D1', '10005CN48_E1', '10015CN84_D2', '10015CN84_C2', '10015CN60_E2']\n",
    "\n",
    "\n",
    "files_dict = {}\n",
    "    \n",
    "for filename in samples_list:\n",
    "    \n",
    "    file = pd.read_csv(os.path.join(path, filename + '_downsamp_stdata.tsv'), sep = '\\t', index_col=0)\n",
    "    files_dict[filename] = file.T\n"
   ]
  },
  {
   "cell_type": "code",
   "execution_count": 9,
   "metadata": {},
   "outputs": [],
   "source": [
    "'Splits counts file to inside vs outside tissue'\n",
    "genes_under_tissue_dict = {}\n",
    "    \n",
    "for filename in samples_list:\n",
    "    \n",
    "    file = pd.read_csv(os.path.join(path, filename + '_stdata_under_tissue_IDs.txt'), sep = '\\t', index_col=0)\n",
    "    \n",
    "    spot_coord = list()\n",
    "    \n",
    "    # 10005CN48_E1 samples have spot coordinates in float...\n",
    "    if filename.startswith('10005CN48_E1'):\n",
    "        for spots in list(file):\n",
    "            spot_tmp = [ float(elem) for elem in spots.split('_') ]\n",
    "            spot_tmp2 = [ round(elem, 0) for elem in spot_tmp ]\n",
    "            spot_tmp3 = [ int(elem) for elem in spot_tmp2 ]\n",
    "\n",
    "            new_spot_coord = str(spot_tmp3[0]) + 'x' + str(spot_tmp3[1])\n",
    "            spot_coord.append(new_spot_coord)\n",
    "    else:\n",
    "        for spots in list(file):\n",
    "            spots_tmp = spots.split('_')\n",
    "            new_spot_coord = str(spots_tmp[0]) + 'x' + str(spots_tmp[1])   \n",
    "            spot_coord.append(new_spot_coord)\n",
    "\n",
    "    genes_under_tissue_dict[filename] = spot_coord\n",
    "\n",
    "files_underoutside_tissue_dict = {}\n",
    "\n",
    "for k, v in files_dict.items():\n",
    "    #print(genes_under_tissue_dict[k])\n",
    "    v_under_tissue = v[genes_under_tissue_dict[k]]\n",
    "\n",
    "    # Spots outside of tissue\n",
    "    spots_outside_tissue = [x for x in list(v) if x not in list(v_under_tissue)]\n",
    "    v_outside_tissue = v[spots_outside_tissue] \n",
    "\n",
    "    files_underoutside_tissue_dict[k] = [v_under_tissue, v_outside_tissue]"
   ]
  },
  {
   "cell_type": "code",
   "execution_count": 54,
   "metadata": {
    "scrolled": false
   },
   "outputs": [
    {
     "name": "stderr",
     "output_type": "stream",
     "text": [
      "/Users/svickovi/miniconda3/envs/stenv3/lib/python3.7/site-packages/ipykernel_launcher.py:17: SettingWithCopyWarning: \n",
      "A value is trying to be set on a copy of a slice from a DataFrame.\n",
      "Try using .loc[row_indexer,col_indexer] = value instead\n",
      "\n",
      "See the caveats in the documentation: https://pandas.pydata.org/pandas-docs/stable/user_guide/indexing.html#returning-a-view-versus-a-copy\n",
      "/Users/svickovi/miniconda3/envs/stenv3/lib/python3.7/site-packages/pandas/core/frame.py:4174: SettingWithCopyWarning: \n",
      "A value is trying to be set on a copy of a slice from a DataFrame\n",
      "\n",
      "See the caveats in the documentation: https://pandas.pydata.org/pandas-docs/stable/user_guide/indexing.html#returning-a-view-versus-a-copy\n",
      "  errors=errors,\n",
      "/Users/svickovi/miniconda3/envs/stenv3/lib/python3.7/site-packages/ipykernel_launcher.py:17: SettingWithCopyWarning: \n",
      "A value is trying to be set on a copy of a slice from a DataFrame.\n",
      "Try using .loc[row_indexer,col_indexer] = value instead\n",
      "\n",
      "See the caveats in the documentation: https://pandas.pydata.org/pandas-docs/stable/user_guide/indexing.html#returning-a-view-versus-a-copy\n",
      "/Users/svickovi/miniconda3/envs/stenv3/lib/python3.7/site-packages/pandas/core/frame.py:4174: SettingWithCopyWarning: \n",
      "A value is trying to be set on a copy of a slice from a DataFrame\n",
      "\n",
      "See the caveats in the documentation: https://pandas.pydata.org/pandas-docs/stable/user_guide/indexing.html#returning-a-view-versus-a-copy\n",
      "  errors=errors,\n"
     ]
    },
    {
     "name": "stdout",
     "output_type": "stream",
     "text": [
      "20768792.0\n",
      "1888072.0\n",
      "1888072.0\n",
      "13200318.0\n",
      "1466702.0\n",
      "1466702.0\n",
      "15664671.0\n",
      "1740519.0\n"
     ]
    },
    {
     "name": "stderr",
     "output_type": "stream",
     "text": [
      "/Users/svickovi/miniconda3/envs/stenv3/lib/python3.7/site-packages/ipykernel_launcher.py:17: SettingWithCopyWarning: \n",
      "A value is trying to be set on a copy of a slice from a DataFrame.\n",
      "Try using .loc[row_indexer,col_indexer] = value instead\n",
      "\n",
      "See the caveats in the documentation: https://pandas.pydata.org/pandas-docs/stable/user_guide/indexing.html#returning-a-view-versus-a-copy\n",
      "/Users/svickovi/miniconda3/envs/stenv3/lib/python3.7/site-packages/pandas/core/frame.py:4174: SettingWithCopyWarning: \n",
      "A value is trying to be set on a copy of a slice from a DataFrame\n",
      "\n",
      "See the caveats in the documentation: https://pandas.pydata.org/pandas-docs/stable/user_guide/indexing.html#returning-a-view-versus-a-copy\n",
      "  errors=errors,\n",
      "/Users/svickovi/miniconda3/envs/stenv3/lib/python3.7/site-packages/ipykernel_launcher.py:17: SettingWithCopyWarning: \n",
      "A value is trying to be set on a copy of a slice from a DataFrame.\n",
      "Try using .loc[row_indexer,col_indexer] = value instead\n",
      "\n",
      "See the caveats in the documentation: https://pandas.pydata.org/pandas-docs/stable/user_guide/indexing.html#returning-a-view-versus-a-copy\n",
      "/Users/svickovi/miniconda3/envs/stenv3/lib/python3.7/site-packages/pandas/core/frame.py:4174: SettingWithCopyWarning: \n",
      "A value is trying to be set on a copy of a slice from a DataFrame\n",
      "\n",
      "See the caveats in the documentation: https://pandas.pydata.org/pandas-docs/stable/user_guide/indexing.html#returning-a-view-versus-a-copy\n",
      "  errors=errors,\n"
     ]
    },
    {
     "name": "stdout",
     "output_type": "stream",
     "text": [
      "1740519.0\n",
      "15887628.0\n",
      "1765292.0\n",
      "1765292.0\n",
      "9986391.0\n",
      "1109599.0\n",
      "1109599.0\n"
     ]
    },
    {
     "name": "stderr",
     "output_type": "stream",
     "text": [
      "/Users/svickovi/miniconda3/envs/stenv3/lib/python3.7/site-packages/ipykernel_launcher.py:17: SettingWithCopyWarning: \n",
      "A value is trying to be set on a copy of a slice from a DataFrame.\n",
      "Try using .loc[row_indexer,col_indexer] = value instead\n",
      "\n",
      "See the caveats in the documentation: https://pandas.pydata.org/pandas-docs/stable/user_guide/indexing.html#returning-a-view-versus-a-copy\n",
      "/Users/svickovi/miniconda3/envs/stenv3/lib/python3.7/site-packages/pandas/core/frame.py:4174: SettingWithCopyWarning: \n",
      "A value is trying to be set on a copy of a slice from a DataFrame\n",
      "\n",
      "See the caveats in the documentation: https://pandas.pydata.org/pandas-docs/stable/user_guide/indexing.html#returning-a-view-versus-a-copy\n",
      "  errors=errors,\n",
      "/Users/svickovi/miniconda3/envs/stenv3/lib/python3.7/site-packages/ipykernel_launcher.py:17: SettingWithCopyWarning: \n",
      "A value is trying to be set on a copy of a slice from a DataFrame.\n",
      "Try using .loc[row_indexer,col_indexer] = value instead\n",
      "\n",
      "See the caveats in the documentation: https://pandas.pydata.org/pandas-docs/stable/user_guide/indexing.html#returning-a-view-versus-a-copy\n"
     ]
    },
    {
     "name": "stdout",
     "output_type": "stream",
     "text": [
      "12373515.0\n",
      "1374835.0\n"
     ]
    },
    {
     "name": "stderr",
     "output_type": "stream",
     "text": [
      "/Users/svickovi/miniconda3/envs/stenv3/lib/python3.7/site-packages/pandas/core/frame.py:4174: SettingWithCopyWarning: \n",
      "A value is trying to be set on a copy of a slice from a DataFrame\n",
      "\n",
      "See the caveats in the documentation: https://pandas.pydata.org/pandas-docs/stable/user_guide/indexing.html#returning-a-view-versus-a-copy\n",
      "  errors=errors,\n"
     ]
    },
    {
     "name": "stdout",
     "output_type": "stream",
     "text": [
      "1374835.0\n",
      "28043136.0\n",
      "3115904.0\n",
      "3115904.0\n",
      "12736980.0\n"
     ]
    },
    {
     "name": "stderr",
     "output_type": "stream",
     "text": [
      "/Users/svickovi/miniconda3/envs/stenv3/lib/python3.7/site-packages/ipykernel_launcher.py:17: SettingWithCopyWarning: \n",
      "A value is trying to be set on a copy of a slice from a DataFrame.\n",
      "Try using .loc[row_indexer,col_indexer] = value instead\n",
      "\n",
      "See the caveats in the documentation: https://pandas.pydata.org/pandas-docs/stable/user_guide/indexing.html#returning-a-view-versus-a-copy\n",
      "/Users/svickovi/miniconda3/envs/stenv3/lib/python3.7/site-packages/pandas/core/frame.py:4174: SettingWithCopyWarning: \n",
      "A value is trying to be set on a copy of a slice from a DataFrame\n",
      "\n",
      "See the caveats in the documentation: https://pandas.pydata.org/pandas-docs/stable/user_guide/indexing.html#returning-a-view-versus-a-copy\n",
      "  errors=errors,\n",
      "/Users/svickovi/miniconda3/envs/stenv3/lib/python3.7/site-packages/ipykernel_launcher.py:17: SettingWithCopyWarning: \n",
      "A value is trying to be set on a copy of a slice from a DataFrame.\n",
      "Try using .loc[row_indexer,col_indexer] = value instead\n",
      "\n",
      "See the caveats in the documentation: https://pandas.pydata.org/pandas-docs/stable/user_guide/indexing.html#returning-a-view-versus-a-copy\n",
      "/Users/svickovi/miniconda3/envs/stenv3/lib/python3.7/site-packages/pandas/core/frame.py:4174: SettingWithCopyWarning: \n",
      "A value is trying to be set on a copy of a slice from a DataFrame\n",
      "\n",
      "See the caveats in the documentation: https://pandas.pydata.org/pandas-docs/stable/user_guide/indexing.html#returning-a-view-versus-a-copy\n",
      "  errors=errors,\n"
     ]
    },
    {
     "name": "stdout",
     "output_type": "stream",
     "text": [
      "1415220.0\n",
      "1415220.0\n",
      "29600199.0\n",
      "3288911.0\n"
     ]
    },
    {
     "name": "stderr",
     "output_type": "stream",
     "text": [
      "/Users/svickovi/miniconda3/envs/stenv3/lib/python3.7/site-packages/ipykernel_launcher.py:17: SettingWithCopyWarning: \n",
      "A value is trying to be set on a copy of a slice from a DataFrame.\n",
      "Try using .loc[row_indexer,col_indexer] = value instead\n",
      "\n",
      "See the caveats in the documentation: https://pandas.pydata.org/pandas-docs/stable/user_guide/indexing.html#returning-a-view-versus-a-copy\n",
      "/Users/svickovi/miniconda3/envs/stenv3/lib/python3.7/site-packages/pandas/core/frame.py:4174: SettingWithCopyWarning: \n",
      "A value is trying to be set on a copy of a slice from a DataFrame\n",
      "\n",
      "See the caveats in the documentation: https://pandas.pydata.org/pandas-docs/stable/user_guide/indexing.html#returning-a-view-versus-a-copy\n",
      "  errors=errors,\n",
      "/Users/svickovi/miniconda3/envs/stenv3/lib/python3.7/site-packages/ipykernel_launcher.py:17: SettingWithCopyWarning: \n",
      "A value is trying to be set on a copy of a slice from a DataFrame.\n",
      "Try using .loc[row_indexer,col_indexer] = value instead\n",
      "\n",
      "See the caveats in the documentation: https://pandas.pydata.org/pandas-docs/stable/user_guide/indexing.html#returning-a-view-versus-a-copy\n",
      "/Users/svickovi/miniconda3/envs/stenv3/lib/python3.7/site-packages/pandas/core/frame.py:4174: SettingWithCopyWarning: \n",
      "A value is trying to be set on a copy of a slice from a DataFrame\n",
      "\n",
      "See the caveats in the documentation: https://pandas.pydata.org/pandas-docs/stable/user_guide/indexing.html#returning-a-view-versus-a-copy\n",
      "  errors=errors,\n"
     ]
    },
    {
     "name": "stdout",
     "output_type": "stream",
     "text": [
      "3288911.0\n",
      "9438930.0\n",
      "1048770.0\n",
      "1048770.0\n",
      "34638858.0\n",
      "3848762.0\n",
      "3848762.0\n"
     ]
    },
    {
     "name": "stderr",
     "output_type": "stream",
     "text": [
      "/Users/svickovi/miniconda3/envs/stenv3/lib/python3.7/site-packages/ipykernel_launcher.py:17: SettingWithCopyWarning: \n",
      "A value is trying to be set on a copy of a slice from a DataFrame.\n",
      "Try using .loc[row_indexer,col_indexer] = value instead\n",
      "\n",
      "See the caveats in the documentation: https://pandas.pydata.org/pandas-docs/stable/user_guide/indexing.html#returning-a-view-versus-a-copy\n",
      "/Users/svickovi/miniconda3/envs/stenv3/lib/python3.7/site-packages/pandas/core/frame.py:4174: SettingWithCopyWarning: \n",
      "A value is trying to be set on a copy of a slice from a DataFrame\n",
      "\n",
      "See the caveats in the documentation: https://pandas.pydata.org/pandas-docs/stable/user_guide/indexing.html#returning-a-view-versus-a-copy\n",
      "  errors=errors,\n",
      "/Users/svickovi/miniconda3/envs/stenv3/lib/python3.7/site-packages/ipykernel_launcher.py:17: SettingWithCopyWarning: \n",
      "A value is trying to be set on a copy of a slice from a DataFrame.\n",
      "Try using .loc[row_indexer,col_indexer] = value instead\n",
      "\n",
      "See the caveats in the documentation: https://pandas.pydata.org/pandas-docs/stable/user_guide/indexing.html#returning-a-view-versus-a-copy\n"
     ]
    },
    {
     "name": "stdout",
     "output_type": "stream",
     "text": [
      "14852871.0\n",
      "1650319.0\n",
      "1650319.0\n"
     ]
    },
    {
     "name": "stderr",
     "output_type": "stream",
     "text": [
      "/Users/svickovi/miniconda3/envs/stenv3/lib/python3.7/site-packages/pandas/core/frame.py:4174: SettingWithCopyWarning: \n",
      "A value is trying to be set on a copy of a slice from a DataFrame\n",
      "\n",
      "See the caveats in the documentation: https://pandas.pydata.org/pandas-docs/stable/user_guide/indexing.html#returning-a-view-versus-a-copy\n",
      "  errors=errors,\n"
     ]
    }
   ],
   "source": [
    "'Collects average gene and UMI counts inside vs. outside tissue in a dataframe'\n",
    "# Filter on sequencing depth\n",
    "seq_depth = {'10015CN84_D2':[23113376, 23],\n",
    "            '10015CN60_E2':[33876251, 33],\n",
    "            '10015CN84_C2':[28174220, 28],\n",
    "            '10005CN48_C1':[71022006, 71],\n",
    "            '10005CN48_D1':[75643539, 75],\n",
    "            '10005CN48_E1': [58631758, 58]}\n",
    "\n",
    "gene_dict = {}\n",
    "umi_dict = {}\n",
    "for key, value in files_underoutside_tissue_dict.items():\n",
    "    \n",
    "    for i, val in enumerate(value): # [inside/outside] of tissue  \n",
    "    \n",
    "        # Sum the counts for each gene\n",
    "        val['tot count'] = val.sum(axis=1)\n",
    "\n",
    "        # # Remove genes (rows) where the total sum is less than xx\n",
    "        value_red = val[val['tot count'] > seq_depth[key][1]]\n",
    "        \n",
    "        # Sum the counts for all genes\n",
    "        tot_sum = value_red['tot count'].sum()\n",
    "        norm_tot_sum = tot_sum/(value_red.shape[1]-1)\n",
    "        print(tot_sum)\n",
    "\n",
    "        # Remove tot count column\n",
    "        value_red.drop(['tot count'], axis = 1, inplace=True)\n",
    "        print(value_red.sum(axis = 1).to_numpy().sum())\n",
    "        # Count non-zero values per spot, and take mean value\n",
    "        genes_per_spot = value_red.astype(bool).sum(axis = 0).mean()\n",
    "        umis_per_spot = value_red.sum(axis = 0).mean()\n",
    "        print(value_red.sum(axis = 1).to_numpy().sum())\n",
    "        #print(norm_tot_sum)\n",
    "        #print(umis_per_spot)\n",
    "        \n",
    "        if i == 0: # inside tissue\n",
    "            gene_dict[key] = [genes_per_spot]\n",
    "            umi_dict[key] = [umis_per_spot]\n",
    "        elif i == 1: # outside tissue\n",
    "            gene_dict[key].append(genes_per_spot)\n",
    "            umi_dict[key].append(umis_per_spot)\n",
    "\n",
    "# Make dataframe out of dict\n",
    "df = pd.DataFrame.from_dict(gene_dict, orient='index', columns=['Genes inside', 'Genes outside']).reset_index()\n",
    "df['Condition'] = df.apply(lambda row: condition(row), axis=1)\n",
    "df_umi = pd.DataFrame.from_dict(umi_dict, orient='index', columns=['UMIs inside', 'UMIs outside']).reset_index()\n",
    "df_umi['Condition'] = df.apply(lambda row: condition(row), axis=1)\n",
    "\n",
    "# Prepare for plotting\n",
    "dfplot = pd.melt(df, id_vars=['index', 'Condition'], value_vars = ['Genes inside', 'Genes outside'])\n",
    "dfplot_umi = pd.melt(df_umi, id_vars=['index', 'Condition'], value_vars = ['UMIs inside', 'UMIs outside'])"
   ]
  },
  {
   "cell_type": "code",
   "execution_count": 46,
   "metadata": {},
   "outputs": [
    {
     "data": {
      "text/plain": [
       "4972743.0"
      ]
     },
     "execution_count": 46,
     "metadata": {},
     "output_type": "execute_result"
    }
   ],
   "source": [
    "val['tot count'].sum()"
   ]
  },
  {
   "cell_type": "code",
   "execution_count": 48,
   "metadata": {},
   "outputs": [
    {
     "data": {
      "text/plain": [
       "1628269.0"
      ]
     },
     "execution_count": 48,
     "metadata": {},
     "output_type": "execute_result"
    }
   ],
   "source": [
    "sum(value_red.sum(axis = 0))"
   ]
  },
  {
   "cell_type": "code",
   "execution_count": 11,
   "metadata": {},
   "outputs": [
    {
     "name": "stdout",
     "output_type": "stream",
     "text": [
      "pvalue annotation legend:\n",
      "ns: 5.00e-02 < p <= 1.00e+00\n",
      "*: 1.00e-02 < p <= 5.00e-02\n",
      "**: 1.00e-03 < p <= 1.00e-02\n",
      "***: 1.00e-04 < p <= 1.00e-03\n",
      "****: p <= 1.00e-04\n",
      "\n",
      "['Genes inside', 'Genes outside'] ['ST', 'sm-omics']\n",
      "Genes inside_sm-omics v.s. Genes inside_ST: T-test P_val=7.125e-04 U_stat=9.404e+00\n",
      "Genes outside_sm-omics v.s. Genes outside_ST: T-test P_val=2.086e-01 U_stat=-1.498e+00\n"
     ]
    },
    {
     "data": {
      "text/plain": [
       "<matplotlib.legend.Legend at 0x7f8e7840b090>"
      ]
     },
     "execution_count": 11,
     "metadata": {},
     "output_type": "execute_result"
    },
    {
     "data": {
      "image/png": "[encoded data removed]",
      "text/plain": [
       "<Figure size 360x360 with 1 Axes>"
      ]
     },
     "metadata": {
      "needs_background": "light"
     },
     "output_type": "display_data"
    }
   ],
   "source": [
    "'Plots violin plots inside vs. outside tissue: Genes'\n",
    "fig = plt.figure(figsize=(5, 5)) \n",
    "\n",
    "x='variable'\n",
    "y='value'\n",
    "hue = 'Condition'\n",
    "data=dfplot\n",
    "\n",
    "ax = sns.violinplot(x=x, y=y, data=data, hue=hue, order = ['Genes inside', 'Genes outside'], palette = [ 'lightcoral','cadetblue'], cut=0)\n",
    "\n",
    "# change background color and figure borders\n",
    "back_c = 'white'\n",
    "ax.set_facecolor(back_c)\n",
    "ax.grid(False)\n",
    "\n",
    "ax.spines['top'].set_visible(False)\n",
    "ax.spines['right'].set_visible(False)\n",
    "ax.spines['bottom'].set_color('k')\n",
    "ax.spines['left'].set_color('k')\n",
    "\n",
    "# X and y label size\n",
    "ax.set_xlabel(\"\")\n",
    "ax.set_ylabel(\"Genes per spot (mean)\", fontsize=15)\n",
    "ax.set_ylim([0,5000])\n",
    "\n",
    "# x and y ticks\n",
    "ax.tick_params(axis='y', labelsize=15)\n",
    "ax.tick_params(axis='x', labelsize=15)\n",
    "\n",
    "# Calculate Wilcoxons \n",
    "boxPairList = [(('Genes inside','sm-omics'), ('Genes inside','ST')),\n",
    "               (('Genes outside','sm-omics'), ('Genes outside','ST'))]\n",
    "\n",
    "add_stat_annotation(ax, data=data, x=x, y=y, hue=hue,\n",
    "                    box_pairs=boxPairList,\n",
    "                    test='ttest', text_format='star', loc='outside', verbose=2, fontsize=15)\n",
    "\n",
    "# Add patterns to distinuigh boxes\n",
    "hatch= ['////']\n",
    "# for i, thisviolin in enumerate(ax.get_children()):\n",
    "#     if isinstance(thisviolin, mpl.collections.PolyCollection):\n",
    "#         if i in [2, 6]:\n",
    "#             thisviolin.set_hatch(hatch =hatch[0])\n",
    "#             thisviolin.set_edgecolor('k')\n",
    "            \n",
    "# Legend\n",
    "handles, labels = ax.get_legend_handles_labels()\n",
    "labels2 = [ 'ST','sm-omics']\n",
    "handles2 = handles[0:2]\n",
    "\n",
    "inside_patch = mpatches.Patch( facecolor='lightcoral', label=labels2[0], edgecolor='k')\n",
    "outside_patch= mpatches.Patch( facecolor='cadetblue',  label=labels2[1], edgecolor='k')\n",
    "ax.legend(handles = [inside_patch, outside_patch],loc='upper center', bbox_to_anchor=(0.5, -0.1),\n",
    "          fancybox=True, shadow=True, ncol=2, fontsize=12)\n",
    "\n",
    "\n",
    "# fig.set_size_inches(20, 10)\n",
    "# plt.savefig(\"../../figures/SM_ST_Genes.pdf\", transparent=True, bbox_inches = 'tight',\n",
    "#    pad_inches = 0, dpi=1200)"
   ]
  },
  {
   "cell_type": "code",
   "execution_count": 12,
   "metadata": {},
   "outputs": [
    {
     "data": {
      "text/html": [
       "<div>\n",
       "<style scoped>\n",
       "    .dataframe tbody tr th:only-of-type {\n",
       "        vertical-align: middle;\n",
       "    }\n",
       "\n",
       "    .dataframe tbody tr th {\n",
       "        vertical-align: top;\n",
       "    }\n",
       "\n",
       "    .dataframe thead th {\n",
       "        text-align: right;\n",
       "    }\n",
       "</style>\n",
       "<table border=\"1\" class=\"dataframe\">\n",
       "  <thead>\n",
       "    <tr style=\"text-align: right;\">\n",
       "      <th></th>\n",
       "      <th></th>\n",
       "      <th>value</th>\n",
       "    </tr>\n",
       "    <tr>\n",
       "      <th>Condition</th>\n",
       "      <th>variable</th>\n",
       "      <th></th>\n",
       "    </tr>\n",
       "  </thead>\n",
       "  <tbody>\n",
       "    <tr>\n",
       "      <th rowspan=\"2\" valign=\"top\">ST</th>\n",
       "      <th>Genes inside</th>\n",
       "      <td>2279.0</td>\n",
       "    </tr>\n",
       "    <tr>\n",
       "      <th>Genes outside</th>\n",
       "      <td>1079.0</td>\n",
       "    </tr>\n",
       "    <tr>\n",
       "      <th rowspan=\"2\" valign=\"top\">sm-omics</th>\n",
       "      <th>Genes inside</th>\n",
       "      <td>4100.0</td>\n",
       "    </tr>\n",
       "    <tr>\n",
       "      <th>Genes outside</th>\n",
       "      <td>905.0</td>\n",
       "    </tr>\n",
       "  </tbody>\n",
       "</table>\n",
       "</div>"
      ],
      "text/plain": [
       "                          value\n",
       "Condition variable             \n",
       "ST        Genes inside   2279.0\n",
       "          Genes outside  1079.0\n",
       "sm-omics  Genes inside   4100.0\n",
       "          Genes outside   905.0"
      ]
     },
     "execution_count": 12,
     "metadata": {},
     "output_type": "execute_result"
    }
   ],
   "source": [
    "data.groupby(['Condition', 'variable']).mean().round()"
   ]
  },
  {
   "cell_type": "code",
   "execution_count": 13,
   "metadata": {},
   "outputs": [
    {
     "data": {
      "text/html": [
       "<div>\n",
       "<style scoped>\n",
       "    .dataframe tbody tr th:only-of-type {\n",
       "        vertical-align: middle;\n",
       "    }\n",
       "\n",
       "    .dataframe tbody tr th {\n",
       "        vertical-align: top;\n",
       "    }\n",
       "\n",
       "    .dataframe thead th {\n",
       "        text-align: right;\n",
       "    }\n",
       "</style>\n",
       "<table border=\"1\" class=\"dataframe\">\n",
       "  <thead>\n",
       "    <tr style=\"text-align: right;\">\n",
       "      <th></th>\n",
       "      <th></th>\n",
       "      <th>value</th>\n",
       "    </tr>\n",
       "    <tr>\n",
       "      <th>Condition</th>\n",
       "      <th>variable</th>\n",
       "      <th></th>\n",
       "    </tr>\n",
       "  </thead>\n",
       "  <tbody>\n",
       "    <tr>\n",
       "      <th rowspan=\"2\" valign=\"top\">ST</th>\n",
       "      <th>Genes inside</th>\n",
       "      <td>231.0</td>\n",
       "    </tr>\n",
       "    <tr>\n",
       "      <th>Genes outside</th>\n",
       "      <td>146.0</td>\n",
       "    </tr>\n",
       "    <tr>\n",
       "      <th rowspan=\"2\" valign=\"top\">sm-omics</th>\n",
       "      <th>Genes inside</th>\n",
       "      <td>243.0</td>\n",
       "    </tr>\n",
       "    <tr>\n",
       "      <th>Genes outside</th>\n",
       "      <td>138.0</td>\n",
       "    </tr>\n",
       "  </tbody>\n",
       "</table>\n",
       "</div>"
      ],
      "text/plain": [
       "                         value\n",
       "Condition variable            \n",
       "ST        Genes inside   231.0\n",
       "          Genes outside  146.0\n",
       "sm-omics  Genes inside   243.0\n",
       "          Genes outside  138.0"
      ]
     },
     "execution_count": 13,
     "metadata": {},
     "output_type": "execute_result"
    }
   ],
   "source": [
    "data.groupby(['Condition', 'variable']).std().round()"
   ]
  },
  {
   "cell_type": "code",
   "execution_count": 14,
   "metadata": {},
   "outputs": [],
   "source": [
    "arr = list(data[(data['Condition'] == 'ST') & (data['variable'] == 'Genes inside')]['value'])\n",
    "mean = np.mean(arr)\n",
    "sd = np.std(arr)"
   ]
  },
  {
   "cell_type": "code",
   "execution_count": 15,
   "metadata": {},
   "outputs": [
    {
     "name": "stdout",
     "output_type": "stream",
     "text": [
      "within 2 stdevs:  [2481.4336917562723, 2328.420664206642, 2026.5665024630541]\n",
      "within 2 stdevs:  [2481.4336917562723, 2328.420664206642, 2026.5665024630541]\n"
     ]
    }
   ],
   "source": [
    "final_list = [x for x in arr if (x > mean - 2 * sd)]\n",
    "print(\"within 2 stdevs: \", final_list)\n",
    "final_list = [x for x in final_list if (x < mean + 2 * sd)]\n",
    "print(\"within 2 stdevs: \", final_list)"
   ]
  },
  {
   "cell_type": "code",
   "execution_count": 25,
   "metadata": {},
   "outputs": [
    {
     "name": "stdout",
     "output_type": "stream",
     "text": [
      "pvalue annotation legend:\n",
      "ns: 5.00e-02 < p <= 1.00e+00\n",
      "*: 1.00e-02 < p <= 5.00e-02\n",
      "**: 1.00e-03 < p <= 1.00e-02\n",
      "***: 1.00e-04 < p <= 1.00e-03\n",
      "****: p <= 1.00e-04\n",
      "\n",
      "['UMIs inside', 'UMIs outside'] ['ST', 'sm-omics']\n",
      "UMIs inside_sm-omics v.s. UMIs inside_ST: T-test P_val=2.827e-04 U_stat=1.218e+01\n",
      "UMIs outside_sm-omics v.s. UMIs outside_ST: T-test P_val=9.833e-01 U_stat=-2.244e-02\n"
     ]
    },
    {
     "data": {
      "text/plain": [
       "<matplotlib.legend.Legend at 0x7f8e98b84bd0>"
      ]
     },
     "execution_count": 25,
     "metadata": {},
     "output_type": "execute_result"
    },
    {
     "data": {
      "image/png": "[encoded data removed]",
      "text/plain": [
       "<Figure size 360x360 with 1 Axes>"
      ]
     },
     "metadata": {
      "needs_background": "light"
     },
     "output_type": "display_data"
    }
   ],
   "source": [
    "'Plots violin plots inside vs. outside tissue: Genes'\n",
    "fig = plt.figure(figsize=(5, 5)) \n",
    "\n",
    "x='variable'\n",
    "y='value'\n",
    "hue = 'Condition'\n",
    "data=dfplot_umi\n",
    "\n",
    "ax = sns.violinplot(x=x, y=y, data=data, hue=hue, order = ['UMIs inside', 'UMIs outside'], palette = [ 'lightcoral','cadetblue'], cut=0)\n",
    "\n",
    "# change background color and figure borders\n",
    "back_c = 'white'\n",
    "ax.set_facecolor(back_c)\n",
    "ax.grid(False)\n",
    "\n",
    "ax.spines['top'].set_visible(False)\n",
    "ax.spines['right'].set_visible(False)\n",
    "ax.spines['bottom'].set_color('k')\n",
    "ax.spines['left'].set_color('k')\n",
    "\n",
    "# X and y label size\n",
    "ax.set_xlabel(\"\")\n",
    "ax.set_ylabel(\"UMIs per spot (mean)\", fontsize=15)\n",
    "ax.set_ylim([0,15000])\n",
    "\n",
    "# x and y ticks\n",
    "ax.tick_params(axis='y', labelsize=15)\n",
    "ax.tick_params(axis='x', labelsize=15)\n",
    "\n",
    "# Calculate Wilcoxons \n",
    "boxPairList = [(('UMIs inside','sm-omics'), ('UMIs inside','ST')),\n",
    "               (('UMIs outside','sm-omics'), ('UMIs outside','ST'))]\n",
    "\n",
    "add_stat_annotation(ax, data=data, x=x, y=y, hue=hue,\n",
    "                    box_pairs=boxPairList,\n",
    "                    test='ttest', text_format='star', loc='outside', verbose=2, fontsize=15)\n",
    "\n",
    "# Add patterns to distinuigh boxes\n",
    "hatch= ['////']\n",
    "# for i, thisviolin in enumerate(ax.get_children()):\n",
    "#     if isinstance(thisviolin, mpl.collections.PolyCollection):\n",
    "#         if i in [2, 6]:\n",
    "#             thisviolin.set_hatch(hatch =hatch[0])\n",
    "#             thisviolin.set_edgecolor('k')\n",
    "            \n",
    "# Legend\n",
    "handles, labels = ax.get_legend_handles_labels()\n",
    "labels2 = [ 'ST','sm-omics']\n",
    "handles2 = handles[0:2]\n",
    "\n",
    "inside_patch = mpatches.Patch( facecolor='lightcoral', label=labels2[0], edgecolor='k')\n",
    "outside_patch= mpatches.Patch( facecolor='cadetblue',  label=labels2[1], edgecolor='k')\n",
    "ax.legend(handles = [inside_patch, outside_patch],loc='upper center', bbox_to_anchor=(0.5, -0.1),\n",
    "          fancybox=True, shadow=True, ncol=2, fontsize=12)\n",
    "\n",
    "\n",
    "# fig.set_size_inches(20, 10)\n",
    "# plt.savefig(\"../../figures/SM_ST_UMIs.pdf\", transparent=True, bbox_inches = 'tight',\n",
    "#    pad_inches = 0, dpi=1200)"
   ]
  },
  {
   "cell_type": "code",
   "execution_count": 17,
   "metadata": {},
   "outputs": [
    {
     "data": {
      "text/html": [
       "<div>\n",
       "<style scoped>\n",
       "    .dataframe tbody tr th:only-of-type {\n",
       "        vertical-align: middle;\n",
       "    }\n",
       "\n",
       "    .dataframe tbody tr th {\n",
       "        vertical-align: top;\n",
       "    }\n",
       "\n",
       "    .dataframe thead th {\n",
       "        text-align: right;\n",
       "    }\n",
       "</style>\n",
       "<table border=\"1\" class=\"dataframe\">\n",
       "  <thead>\n",
       "    <tr style=\"text-align: right;\">\n",
       "      <th></th>\n",
       "      <th></th>\n",
       "      <th>value</th>\n",
       "    </tr>\n",
       "    <tr>\n",
       "      <th>Condition</th>\n",
       "      <th>variable</th>\n",
       "      <th></th>\n",
       "    </tr>\n",
       "  </thead>\n",
       "  <tbody>\n",
       "    <tr>\n",
       "      <th rowspan=\"2\" valign=\"top\">ST</th>\n",
       "      <th>UMIs inside</th>\n",
       "      <td>5342.0</td>\n",
       "    </tr>\n",
       "    <tr>\n",
       "      <th>UMIs outside</th>\n",
       "      <td>1740.0</td>\n",
       "    </tr>\n",
       "    <tr>\n",
       "      <th rowspan=\"2\" valign=\"top\">sm-omics</th>\n",
       "      <th>UMIs inside</th>\n",
       "      <td>12934.0</td>\n",
       "    </tr>\n",
       "    <tr>\n",
       "      <th>UMIs outside</th>\n",
       "      <td>1734.0</td>\n",
       "    </tr>\n",
       "  </tbody>\n",
       "</table>\n",
       "</div>"
      ],
      "text/plain": [
       "                          value\n",
       "Condition variable             \n",
       "ST        UMIs inside    5342.0\n",
       "          UMIs outside   1740.0\n",
       "sm-omics  UMIs inside   12934.0\n",
       "          UMIs outside   1734.0"
      ]
     },
     "execution_count": 17,
     "metadata": {},
     "output_type": "execute_result"
    }
   ],
   "source": [
    "data.groupby(['Condition', 'variable']).mean().round()"
   ]
  },
  {
   "cell_type": "code",
   "execution_count": 18,
   "metadata": {},
   "outputs": [
    {
     "name": "stdout",
     "output_type": "stream",
     "text": [
      "within 2 stdevs:  []\n",
      "within 2 stdevs:  []\n"
     ]
    },
    {
     "name": "stderr",
     "output_type": "stream",
     "text": [
      "/Users/svickovi/miniconda3/envs/stenv3/lib/python3.7/site-packages/numpy/core/fromnumeric.py:3373: RuntimeWarning: Mean of empty slice.\n",
      "  out=out, **kwargs)\n",
      "/Users/svickovi/miniconda3/envs/stenv3/lib/python3.7/site-packages/numpy/core/_methods.py:170: RuntimeWarning: invalid value encountered in double_scalars\n",
      "  ret = ret.dtype.type(ret / rcount)\n",
      "/Users/svickovi/miniconda3/envs/stenv3/lib/python3.7/site-packages/numpy/core/_methods.py:234: RuntimeWarning: Degrees of freedom <= 0 for slice\n",
      "  keepdims=keepdims)\n",
      "/Users/svickovi/miniconda3/envs/stenv3/lib/python3.7/site-packages/numpy/core/_methods.py:195: RuntimeWarning: invalid value encountered in true_divide\n",
      "  arrmean, rcount, out=arrmean, casting='unsafe', subok=False)\n",
      "/Users/svickovi/miniconda3/envs/stenv3/lib/python3.7/site-packages/numpy/core/_methods.py:226: RuntimeWarning: invalid value encountered in double_scalars\n",
      "  ret = ret.dtype.type(ret / rcount)\n"
     ]
    }
   ],
   "source": [
    "arr = list(data[(data['Condition'] == 'sm-omics') & (data['variable'] == 'Genes inside')]['value'])\n",
    "mean = np.mean(arr)\n",
    "sd = np.std(arr)\n",
    "\n",
    "final_list = [x for x in arr if (x > mean - 2 * sd)]\n",
    "print(\"within 2 stdevs: \", final_list)\n",
    "final_list = [x for x in final_list if (x < mean + 2 * sd)]\n",
    "print(\"within 2 stdevs: \", final_list)"
   ]
  },
  {
   "cell_type": "code",
   "execution_count": 19,
   "metadata": {},
   "outputs": [],
   "source": [
    "emb_genes = [27893,27256,26693,27379,25582]\n",
    "emb_umis = [3978914,3462300,2911180,2975887,3274052,3412990]"
   ]
  },
  {
   "cell_type": "code",
   "execution_count": 20,
   "metadata": {},
   "outputs": [
    {
     "data": {
      "text/plain": [
       "2.9223680540429164"
      ]
     },
     "execution_count": 20,
     "metadata": {},
     "output_type": "execute_result"
    }
   ],
   "source": [
    "100*np.std(emb_genes)/np.mean(emb_genes)"
   ]
  },
  {
   "cell_type": "code",
   "execution_count": 21,
   "metadata": {},
   "outputs": [
    {
     "data": {
      "text/plain": [
       "10.592887360335363"
      ]
     },
     "execution_count": 21,
     "metadata": {},
     "output_type": "execute_result"
    }
   ],
   "source": [
    "100*np.std(emb_umis)/np.mean(emb_umis)"
   ]
  },
  {
   "cell_type": "code",
   "execution_count": 22,
   "metadata": {},
   "outputs": [],
   "source": [
    "stahl_umis = [37400,45400,17900,38000,14200]"
   ]
  },
  {
   "cell_type": "code",
   "execution_count": 23,
   "metadata": {},
   "outputs": [
    {
     "data": {
      "text/plain": [
       "40.058207973732245"
      ]
     },
     "execution_count": 23,
     "metadata": {},
     "output_type": "execute_result"
    }
   ],
   "source": [
    "100*np.std(stahl_umis)/np.mean(stahl_umis)"
   ]
  },
  {
   "cell_type": "code",
   "execution_count": null,
   "metadata": {},
   "outputs": [],
   "source": []
  },
  {
   "cell_type": "code",
   "execution_count": null,
   "metadata": {},
   "outputs": [],
   "source": []
  }
 ],
 "metadata": {
  "kernelspec": {
   "display_name": "Python 3",
   "language": "python",
   "name": "python3"
  },
  "language_info": {
   "codemirror_mode": {
    "name": "ipython",
    "version": 3
   },
   "file_extension": ".py",
   "mimetype": "text/x-python",
   "name": "python",
   "nbconvert_exporter": "python",
   "pygments_lexer": "ipython3",
   "version": "3.7.6"
  }
 },
 "nbformat": 4,
 "nbformat_minor": 2
}
