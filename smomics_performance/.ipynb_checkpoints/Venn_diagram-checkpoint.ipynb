{
 "cells": [
  {
   "cell_type": "markdown",
   "metadata": {},
   "source": [
    "Script to make a Venn diagram of number of genes in each condition.\n",
    "\n",
    "Input files are downsampled and filtered for spots under tissue.\n",
    "\n",
    "data files needed to run are available at SCP: https://singlecell.broadinstitute.org/single_cell/study/SCP979/\n",
    "please download:\n",
    "10005CN48_C1_downsamp.tsv \n",
    "10005CN48_D1_downsamp.tsv \n",
    "10005CN48_E1_downsamp.tsv \n",
    "10015CN60_E2_downsamp.tsv \n",
    "10015CN84_C2_downsamp.tsv \n",
    "10015CN84_D2_downsamp.tsv \n",
    "10005CN48_C1_stdata_under_tissue_IDs.txt \n",
    "10005CN48_D1_stdata_under_tissue_IDs.txt \n",
    "10005CN48_E1_stdata_under_tissue_IDs.txt \n",
    "10015CN60_E2_stdata_under_tissue_IDs.txt \n",
    "10015CN84_C2_stdata_under_tissue_IDs.txt \n",
    "10015CN84_D2_stdata_under_tissue_IDs.txt"
   ]
  },
  {
   "cell_type": "code",
   "execution_count": 22,
   "metadata": {},
   "outputs": [],
   "source": [
    "%matplotlib inline\n",
    "import os\n",
    "import pandas as pd\n",
    "import numpy as np\n",
    "import matplotlib.pyplot as plt\n",
    "import seaborn as sns\n",
    "import glob"
   ]
  },
  {
   "cell_type": "code",
   "execution_count": 23,
   "metadata": {},
   "outputs": [],
   "source": [
    "# Make a sample-condition dictionary\n",
    "sam_cond = {'ST': ['10005CN48_C1', '10005CN48_D1', '10005CN48_E1'],\n",
    "           'sm-omics':['10015CN84_D2', '10015CN84_C2', '10015CN60_E2']}"
   ]
  },
  {
   "cell_type": "code",
   "execution_count": 24,
   "metadata": {
    "scrolled": true
   },
   "outputs": [],
   "source": [
    "# Load input files, tsv files from st-pipeline\n",
    "\n",
    "path = '/Users/brittalotstedt/Documents/Documents-dhcp-18-40-114-33/data/stdata/manuscript/sm-omics/tmp'\n",
    "\n",
    "samples_list = ['10005CN48_C1', '10005CN48_D1', '10005CN48_E1', '10015CN84_D2', '10015CN84_C2', '10015CN60_E2']\n",
    "    \n",
    "files_dict = {}\n",
    "    \n",
    "for filename in samples_list:\n",
    "    \n",
    "    file = pd.read_csv(os.path.join(path, filename + '_downsamp_stdata.tsv'), sep = '\\t', index_col=0)\n",
    "\n",
    "    files_dict[filename] = file.T\n"
   ]
  },
  {
   "cell_type": "code",
   "execution_count": 25,
   "metadata": {},
   "outputs": [],
   "source": [
    "# I only want to look at spots under tissue so I pick the spots from the tissue\n",
    "\n",
    "# SPots under tissue\n",
    "genes_under_tissue_dict = {}\n",
    "    \n",
    "for filename in samples_list:\n",
    "    \n",
    "    file = pd.read_csv(os.path.join(path, filename + '_stdata_under_tissue_IDs.txt'), sep = '\\t', index_col=0)\n",
    "    \n",
    "    spot_coord = list()\n",
    "    \n",
    "    # 10005CN48_E1 samples have spot coordinates in float...\n",
    "    if filename.startswith('10005CN48_E1'):\n",
    "        for spots in list(file):\n",
    "            spot_tmp = [ float(elem) for elem in spots.split('_') ]\n",
    "            spot_tmp2 = [ round(elem, 0) for elem in spot_tmp ]\n",
    "            spot_tmp3 = [ int(elem) for elem in spot_tmp2 ]\n",
    "\n",
    "            new_spot_coord = str(spot_tmp3[0]) + 'x' + str(spot_tmp3[1])\n",
    "            spot_coord.append(new_spot_coord)\n",
    "    else:\n",
    "        for spots in list(file):\n",
    "            spots_tmp = spots.split('_')\n",
    "            new_spot_coord = str(spots_tmp[0]) + 'x' + str(spots_tmp[1])   \n",
    "            spot_coord.append(new_spot_coord)\n",
    "\n",
    "    genes_under_tissue_dict[filename] = spot_coord\n"
   ]
  },
  {
   "cell_type": "code",
   "execution_count": 26,
   "metadata": {},
   "outputs": [],
   "source": [
    "# Only keep spots under tissue\n",
    "\n",
    "files_under_tissue_dict = {}\n",
    "\n",
    "for k, v in files_dict.items():\n",
    "   \n",
    "    v_under_tissue = v[genes_under_tissue_dict[k]]\n",
    "    \n",
    "    files_under_tissue_dict[k] = v_under_tissue"
   ]
  },
  {
   "cell_type": "code",
   "execution_count": 27,
   "metadata": {},
   "outputs": [
    {
     "name": "stderr",
     "output_type": "stream",
     "text": [
      "/Users/brittalotstedt/anaconda2/envs/python3/lib/python3.6/site-packages/ipykernel_launcher.py:15: SettingWithCopyWarning: \n",
      "A value is trying to be set on a copy of a slice from a DataFrame.\n",
      "Try using .loc[row_indexer,col_indexer] = value instead\n",
      "\n",
      "See the caveats in the documentation: http://pandas.pydata.org/pandas-docs/stable/indexing.html#indexing-view-versus-copy\n",
      "  from ipykernel import kernelapp as app\n",
      "/Users/brittalotstedt/anaconda2/envs/python3/lib/python3.6/site-packages/ipykernel_launcher.py:18: RuntimeWarning: divide by zero encountered in log2\n",
      "/Users/brittalotstedt/anaconda2/envs/python3/lib/python3.6/site-packages/ipykernel_launcher.py:18: SettingWithCopyWarning: \n",
      "A value is trying to be set on a copy of a slice from a DataFrame.\n",
      "Try using .loc[row_indexer,col_indexer] = value instead\n",
      "\n",
      "See the caveats in the documentation: http://pandas.pydata.org/pandas-docs/stable/indexing.html#indexing-view-versus-copy\n"
     ]
    }
   ],
   "source": [
    "# Filter on sequencing depth\n",
    "\n",
    "seq_depth = {'10015CN84_D2':[23113376, 23],\n",
    "            '10015CN60_E2':[33876251, 33],\n",
    "            '10015CN84_C2':[28174220, 28],\n",
    "            '10005CN48_C1':[71022006, 71],\n",
    "            '10005CN48_D1':[75643539, 75],\n",
    "            '10005CN48_E1': [58631758, 58]}\n",
    "\n",
    "gene_dict = {}\n",
    "\n",
    "for key, value in files_under_tissue_dict.items():\n",
    "    \n",
    "    # Sum the counts for each gene\n",
    "    value['tot count'] = value.sum(axis=1) \n",
    "    \n",
    "    # Log2 transform count\n",
    "    value['tot count'] = np.log2(value['tot count'])\n",
    "    \n",
    "    # # Remove genes (rows) where the total sum is less than xx\n",
    "    xx = np.log2(seq_depth[key][1]) \n",
    "    log2_value_red = value[value['tot count'] > xx]\n",
    "    # Remove tot count column\n",
    "    log2_value_red.drop(['tot count'], axis = 1, inplace=True)\n",
    "\n",
    "    # Store these gene name\n",
    "    genes = log2_value_red.index.tolist()\n",
    "    \n",
    "    gene_dict[key] = genes"
   ]
  },
  {
   "cell_type": "code",
   "execution_count": 28,
   "metadata": {
    "scrolled": true
   },
   "outputs": [],
   "source": [
    "# Take the average of the 3 replicates\n",
    "ave_genes_dict = {}\n",
    "\n",
    "for key, value in sam_cond.items():\n",
    "    \n",
    "    genes_in_common = list()\n",
    "    \n",
    "    for gene_key, gene_value in gene_dict.items():\n",
    "        \n",
    "        if gene_key in value:\n",
    "            \n",
    "            genes_in_common.append(gene_value)\n",
    "\n",
    "    # Which genes are present in all three samples? \n",
    "    ave_genes = list(set(genes_in_common[0]).intersection(genes_in_common[1],genes_in_common[2]))\n",
    "    \n",
    "    ave_genes_dict[key] = ave_genes\n"
   ]
  },
  {
   "cell_type": "code",
   "execution_count": 29,
   "metadata": {},
   "outputs": [
    {
     "data": {
      "image/png": "[encoded data removed]",
      "text/plain": [
       "<Figure size 720x360 with 1 Axes>"
      ]
     },
     "metadata": {},
     "output_type": "display_data"
    }
   ],
   "source": [
    "# Plot Venn\n",
    "\n",
    "from matplotlib_venn import venn2\n",
    "\n",
    "# Plot figure with subplots of different sizes\n",
    "fig = plt.figure(figsize=(10, 5)) \n",
    "ax1 = plt.subplot2grid((1, 1), (0, 0))\n",
    "\n",
    "a = venn2([set(ave_genes_dict['sm-omics']), set(ave_genes_dict['ST'])], set_labels = ('sm-omics', 'ST'), ax=ax1)\n",
    "\n",
    "#ax1.text(-0.8, 0.5,'A', fontsize=22)\n",
    "\n",
    "lbl = a.get_label_by_id('A')\n",
    "x, y = lbl.get_position()\n",
    "lbl.set_position((-0.65, 0))  \n",
    "lbl = a.get_label_by_id('B')\n",
    "x, y = lbl.get_position()\n",
    "lbl.set_position((0.6, 0))\n",
    "\n",
    "a.get_patch_by_id('10').set_color('cadetblue')\n",
    "a.get_patch_by_id('01').set_color('lightcoral')\n",
    "a.get_patch_by_id('11').set_color('grey')\n",
    "\n",
    "plt.show()"
   ]
  }
 ],
 "metadata": {
  "kernelspec": {
   "display_name": "Python 3",
   "language": "python",
   "name": "python3"
  },
  "language_info": {
   "codemirror_mode": {
    "name": "ipython",
    "version": 3
   },
   "file_extension": ".py",
   "mimetype": "text/x-python",
   "name": "python",
   "nbconvert_exporter": "python",
   "pygments_lexer": "ipython3",
   "version": "3.6.7"
  }
 },
 "nbformat": 4,
 "nbformat_minor": 2
}
