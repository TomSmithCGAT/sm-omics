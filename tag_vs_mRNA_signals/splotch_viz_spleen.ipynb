{
 "cells": [
  {
   "cell_type": "markdown",
   "metadata": {},
   "source": [
    "How to use splotch to plot one image per condition\n",
    "\n",
    "beta_level_1 used in post-processing of splotch output\n",
    " /ahg/regevdata/projects/ST_SpatialTranscriptomics/splotch/scripts/assist/read_splotch_newOuputFolder.py used on cluster\n",
    " splotch_two_levels\n",
    " 12 warmup samples\n",
    " same order of columns in count file and annotation file, used in splotch\n",
    " called /outputs/ST_43/splotch/output_v4 on the server"
   ]
  },
  {
   "cell_type": "code",
   "execution_count": 1,
   "metadata": {},
   "outputs": [],
   "source": [
    "import os\n",
    "import re\n",
    "import glob\n",
    "import numpy\n",
    "import matplotlib\n",
    "import matplotlib.pyplot as plt\n",
    "import pickle\n",
    "import pandas as pd\n",
    "%matplotlib inline\n",
    "matplotlib.rcParams.update({'axes.linewidth': 0.25,\n",
    "                            'xtick.major.size': 2,\n",
    "                            'xtick.major.width': 0.25,\n",
    "                            'ytick.major.size': 2,\n",
    "                            'ytick.major.width': 0.25,\n",
    "                            'pdf.fonttype': 42,\n",
    "                            'font.sans-serif': 'Arial'})"
   ]
  },
  {
   "cell_type": "code",
   "execution_count": 2,
   "metadata": {},
   "outputs": [],
   "source": [
    "def read_array_metadata(metadata,filename,n_levels, extraplot=None):\n",
    "    array_metadata = metadata[metadata['Count file'] == filename]\n",
    "    array_levels = [array_metadata['Level %d'%(idx+1)].values[0] for idx in range(0,n_levels)]\n",
    "    \n",
    "    if extraplot != None:\n",
    "        array_levels = array_metadata['Extra_plot_level'].tolist()\n",
    "    return array_levels"
   ]
  },
  {
   "cell_type": "code",
   "execution_count": 3,
   "metadata": {
    "scrolled": true
   },
   "outputs": [
    {
     "name": "stderr",
     "output_type": "stream",
     "text": [
      "/Users/svickovi/miniconda3/envs/stenv3/lib/python3.7/site-packages/ipykernel_launcher.py:14: RuntimeWarning: overflow encountered in exp\n",
      "  \n"
     ]
    }
   ],
   "source": [
    "# Load Lambda pmean df\n",
    "path = '../../smomics_data'\n",
    "\n",
    "# Read file\n",
    "filename = os.path.join(path, 'lambdas_pmeans.tsv')\n",
    "\n",
    "#Read file\n",
    "#filename = os.path.join(path, 'lambdas_pmeans_spleen_exons_mRNA_ifs.tsv')\n",
    " \n",
    "lambda_posterior_means = pd.read_csv(filename, index_col=0, sep='\\t', header=[0,1])\n",
    "\n",
    "# Take exp()\n",
    "lambda_posterior_means = lambda_posterior_means.astype(float)\n",
    "lambda_posterior_means = numpy.exp(lambda_posterior_means-1)\n",
    "\n",
    "#clean up names\n",
    "nwe=[]\n",
    "nm=lambda_posterior_means.index\n",
    "for item in nm:\n",
    "    nwe.append(str(item).split(\"_\")[0])\n",
    "lambda_posterior_means.index = nwe"
   ]
  },
  {
   "cell_type": "markdown",
   "metadata": {},
   "source": [
    "# Plot individual sections"
   ]
  },
  {
   "cell_type": "code",
   "execution_count": 4,
   "metadata": {},
   "outputs": [
    {
     "ename": "FileNotFoundError",
     "evalue": "[Errno 2] No such file or directory: '../../smomics_data/information.p'",
     "output_type": "error",
     "traceback": [
      "\u001b[0;31m---------------------------------------------------------------------------\u001b[0m",
      "\u001b[0;31mFileNotFoundError\u001b[0m                         Traceback (most recent call last)",
      "\u001b[0;32m<ipython-input-4-3fc31dc04282>\u001b[0m in \u001b[0;36m<module>\u001b[0;34m\u001b[0m\n\u001b[1;32m      3\u001b[0m \u001b[0mpath\u001b[0m \u001b[0;34m=\u001b[0m \u001b[0;34m'../../smomics_data'\u001b[0m\u001b[0;34m\u001b[0m\u001b[0;34m\u001b[0m\u001b[0m\n\u001b[1;32m      4\u001b[0m \u001b[0minfo_file\u001b[0m \u001b[0;34m=\u001b[0m \u001b[0mos\u001b[0m\u001b[0;34m.\u001b[0m\u001b[0mpath\u001b[0m\u001b[0;34m.\u001b[0m\u001b[0mjoin\u001b[0m\u001b[0;34m(\u001b[0m\u001b[0mpath\u001b[0m\u001b[0;34m,\u001b[0m \u001b[0;34m'information.p'\u001b[0m\u001b[0;34m)\u001b[0m\u001b[0;34m\u001b[0m\u001b[0;34m\u001b[0m\u001b[0m\n\u001b[0;32m----> 5\u001b[0;31m \u001b[0minfo\u001b[0m \u001b[0;34m=\u001b[0m \u001b[0mpickle\u001b[0m\u001b[0;34m.\u001b[0m\u001b[0mload\u001b[0m\u001b[0;34m(\u001b[0m\u001b[0mopen\u001b[0m\u001b[0;34m(\u001b[0m\u001b[0minfo_file\u001b[0m\u001b[0;34m,\u001b[0m\u001b[0;34m'rb'\u001b[0m\u001b[0;34m)\u001b[0m\u001b[0;34m)\u001b[0m\u001b[0;34m\u001b[0m\u001b[0;34m\u001b[0m\u001b[0m\n\u001b[0m\u001b[1;32m      6\u001b[0m \u001b[0;34m\u001b[0m\u001b[0m\n\u001b[1;32m      7\u001b[0m \u001b[0mmetadata\u001b[0m \u001b[0;34m=\u001b[0m \u001b[0minfo\u001b[0m\u001b[0;34m[\u001b[0m\u001b[0;34m'metadata'\u001b[0m\u001b[0;34m]\u001b[0m\u001b[0;34m\u001b[0m\u001b[0;34m\u001b[0m\u001b[0m\n",
      "\u001b[0;31mFileNotFoundError\u001b[0m: [Errno 2] No such file or directory: '../../smomics_data/information.p'"
     ]
    }
   ],
   "source": [
    "# Load sample_information file\n",
    "# Read file\n",
    "path = '../../smomics_data'\n",
    "info_file = os.path.join(path, 'information.p')\n",
    "info = pickle.load(open(info_file,'rb')) \n",
    "    \n",
    "metadata = info['metadata']\n",
    "n_levels = info['n_levels']\n",
    "\n",
    "print(metadata['Count file'][2])\n",
    "print(n_levels)"
   ]
  },
  {
   "cell_type": "code",
   "execution_count": 5,
   "metadata": {},
   "outputs": [
    {
     "ename": "NameError",
     "evalue": "name 'metadata' is not defined",
     "output_type": "error",
     "traceback": [
      "\u001b[0;31m---------------------------------------------------------------------------\u001b[0m",
      "\u001b[0;31mNameError\u001b[0m                                 Traceback (most recent call last)",
      "\u001b[0;32m<ipython-input-5-9a6d080e54d2>\u001b[0m in \u001b[0;36m<module>\u001b[0;34m\u001b[0m\n\u001b[0;32m----> 1\u001b[0;31m \u001b[0mprint\u001b[0m\u001b[0;34m(\u001b[0m\u001b[0mmetadata\u001b[0m\u001b[0;34m[\u001b[0m\u001b[0;34m'Count file'\u001b[0m\u001b[0;34m]\u001b[0m\u001b[0;34m[\u001b[0m\u001b[0;36m1\u001b[0m\u001b[0;34m]\u001b[0m\u001b[0;34m)\u001b[0m\u001b[0;34m\u001b[0m\u001b[0;34m\u001b[0m\u001b[0m\n\u001b[0m",
      "\u001b[0;31mNameError\u001b[0m: name 'metadata' is not defined"
     ]
    }
   ],
   "source": [
    "print(metadata['Count file'][1])"
   ]
  },
  {
   "cell_type": "code",
   "execution_count": null,
   "metadata": {},
   "outputs": [],
   "source": [
    "\n"
   ]
  },
  {
   "cell_type": "code",
   "execution_count": 10,
   "metadata": {},
   "outputs": [],
   "source": [
    "gene = 'Adgre1'"
   ]
  },
  {
   "cell_type": "code",
   "execution_count": null,
   "metadata": {
    "scrolled": false
   },
   "outputs": [],
   "source": [
    "# initialize a figure\n",
    "fig = matplotlib.pyplot.figure(figsize=(60, 60))\n",
    "num_cols = 3\n",
    "axes = []\n",
    "count_files = numpy.array(list(lambda_posterior_means.columns.levels[0]))\n",
    "for i in range(0,int((int(len(count_files)+2)/num_cols))):\n",
    "    for j in range(0, num_cols):\n",
    "        ax = plt.subplot2grid((int((len(count_files)+2)/num_cols+1), num_cols), (i, j))\n",
    "        axes.append(ax) \n",
    "\n",
    "# get title\n",
    "fig.suptitle(gene, fontsize=50)\n",
    "\n",
    "# set percent cut offs for ploting\n",
    "mins = [5,5,5,5,5,5]\n",
    "maxs = [95,95,95,95,95,95]\n",
    "# loop over the count files\n",
    "for n, count_file in enumerate(count_files):\n",
    "    \n",
    "    ax = axes[n]\n",
    "\n",
    "    coordinates = numpy.array([list(map(float,coordinate.split('_')))\n",
    "                               for coordinate in list(lambda_posterior_means[count_file].columns)])\n",
    "    \n",
    "    x_coordinates = (coordinates[:,0]-1)\n",
    "    y_coordinates = (coordinates[:,1]-1)\n",
    "    \n",
    "    # visualize the ST spots \n",
    "    s=300\n",
    "    \n",
    "    vmin = numpy.percentile(lambda_posterior_means[count_file].loc[gene].values,mins[n])\n",
    "    vmax = numpy.percentile(lambda_posterior_means[count_file].loc[gene].values,maxs[n])\n",
    "    \n",
    "    cbmap = ax.scatter(x_coordinates,y_coordinates,\n",
    "                       s=s,c=lambda_posterior_means[count_file].loc[gene],\n",
    "                       cmap='magma',vmin=vmin,vmax=vmax,marker='o')\n",
    "    \n",
    "    ax.set_aspect('equal')\n",
    "    \n",
    "    ax.set_xticks([])\n",
    "    ax.set_yticks([])\n",
    "    \n",
    "    ax.set_xlim(0, 33)\n",
    "    ax.set_ylim(35,0)\n",
    "    \n",
    "    # put some information on the array in the title\n",
    "    ax.set_title(count_file.split(\"/\")[-1].split(\"_stdata_adjusted.tsv\")[0], fontsize=50)\n",
    "    \n",
    "    cbar = matplotlib.pyplot.colorbar(cbmap,ax=ax,shrink=0.4)\n",
    "    cbar.ax.tick_params(labelsize=50) \n",
    "    \n",
    "    cbar.set_label(r'%s $\\bar{\\lambda}$'%(gene), fontsize=50)\n",
    "    \n",
    "fig.subplots_adjust(top=0.90)\n",
    "#fig.savefig(gene+'_exons.pdf')"
   ]
  },
  {
   "cell_type": "code",
   "execution_count": 117,
   "metadata": {},
   "outputs": [
    {
     "data": {
      "text/plain": [
       "4"
      ]
     },
     "execution_count": 117,
     "metadata": {},
     "output_type": "execute_result"
    }
   ],
   "source": [
    "len(count_files)"
   ]
  },
  {
   "cell_type": "code",
   "execution_count": null,
   "metadata": {},
   "outputs": [],
   "source": []
  },
  {
   "cell_type": "code",
   "execution_count": null,
   "metadata": {},
   "outputs": [],
   "source": []
  },
  {
   "cell_type": "code",
   "execution_count": null,
   "metadata": {},
   "outputs": [],
   "source": []
  },
  {
   "cell_type": "code",
   "execution_count": null,
   "metadata": {},
   "outputs": [],
   "source": []
  },
  {
   "cell_type": "code",
   "execution_count": null,
   "metadata": {},
   "outputs": [],
   "source": []
  },
  {
   "cell_type": "code",
   "execution_count": null,
   "metadata": {},
   "outputs": [],
   "source": []
  },
  {
   "cell_type": "code",
   "execution_count": null,
   "metadata": {},
   "outputs": [],
   "source": []
  }
 ],
 "metadata": {
  "kernelspec": {
   "display_name": "Python 3",
   "language": "python",
   "name": "python3"
  },
  "language_info": {
   "codemirror_mode": {
    "name": "ipython",
    "version": 3
   },
   "file_extension": ".py",
   "mimetype": "text/x-python",
   "name": "python",
   "nbconvert_exporter": "python",
   "pygments_lexer": "ipython3",
   "version": "3.7.6"
  }
 },
 "nbformat": 4,
 "nbformat_minor": 2
}
