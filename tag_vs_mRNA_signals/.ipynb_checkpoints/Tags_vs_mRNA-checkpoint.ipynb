{
 "cells": [
  {
   "cell_type": "markdown",
   "metadata": {},
   "source": [
    "Plot the correlation between tags and transcriptome signal.\n",
    "Annotation file is the covariets file from splotch"
   ]
  },
  {
   "cell_type": "code",
   "execution_count": 1,
   "metadata": {},
   "outputs": [],
   "source": [
    "import os\n",
    "import glob\n",
    "import matplotlib\n",
    "import matplotlib.pyplot as plt\n",
    "import pandas as pd\n",
    "from sklearn import preprocessing\n",
    "from scipy.stats import linregress, spearmanr, pearsonr\n",
    "import numpy as np\n",
    "import math\n",
    "import seaborn as sns\n",
    "%matplotlib inline\n",
    "matplotlib.rcParams.update({'axes.linewidth': 0.25,\n",
    "                            'xtick.major.size': 2,\n",
    "                            'xtick.major.width': 0.25,\n",
    "                            'ytick.major.size': 2,\n",
    "                            'ytick.major.width': 0.25,\n",
    "                            'pdf.fonttype': 42,\n",
    "                            'font.sans-serif': 'Arial',\n",
    "                           'ps.fonttype':42})"
   ]
  },
  {
   "cell_type": "code",
   "execution_count": 2,
   "metadata": {},
   "outputs": [],
   "source": [
    "path = '../../smomics_data'\n"
   ]
  },
  {
   "cell_type": "code",
   "execution_count": 3,
   "metadata": {},
   "outputs": [],
   "source": [
    "import warnings\n",
    "warnings.filterwarnings('ignore')"
   ]
  },
  {
   "cell_type": "markdown",
   "metadata": {},
   "source": [
    "# mRNA"
   ]
  },
  {
   "cell_type": "code",
   "execution_count": 83,
   "metadata": {
    "scrolled": true
   },
   "outputs": [],
   "source": [
    "# Read file\n",
    "filename = os.path.join(path, 'lambdas_pmeans_spleen_exons_mRNA_6tags.tsv')\n",
    "lambda_posterior_means = pd.read_csv(filename, index_col=0, sep='\\t', header=[0,1])"
   ]
  },
  {
   "cell_type": "code",
   "execution_count": 84,
   "metadata": {
    "scrolled": true
   },
   "outputs": [],
   "source": [
    "# Change names on genes, ie remove '_'\n",
    "nwe=[]\n",
    "nm=lambda_posterior_means.index\n",
    "for item in nm:\n",
    "    nwe.append(str(item).split(\"_\")[0])\n",
    "lambda_posterior_means.index = nwe\n",
    "\n",
    "# Take exp()\n",
    "lambda_posterior_means = lambda_posterior_means.astype(float)\n",
    "lambda_posterior_means = np.exp(lambda_posterior_means-1)\n"
   ]
  },
  {
   "cell_type": "code",
   "execution_count": 263,
   "metadata": {},
   "outputs": [],
   "source": [
    "# Select gene\n",
    "pd.set_option('display.max_colwidth', -1)\n",
    "genes = ['Adgre1', 'Ighd', 'Cd8a', 'Cd4', 'Cd38', 'Cd163']\n",
    "\n",
    "collect_genes = {}\n",
    "for gene in genes:\n",
    "    # subset all genes\n",
    "    \n",
    "    if not gene in lambda_posterior_means.index:\n",
    "        continue\n",
    "    \n",
    "    lambda_gene = lambda_posterior_means.loc[gene, :].to_frame().reset_index()\n",
    "    lambda_gene =  lambda_gene[(lambda_gene[gene] > np.percentile(lambda_gene[gene].values,0.1)) & (lambda_gene[gene] < np.percentile(lambda_gene[gene].values,100))]\n",
    "    # Get name of file, for plotting\n",
    "    lambda_gene['name'] = lambda_gene['file'].str.split('/').str[-1].str.split('_stdata').str[0]\n",
    "\n",
    "    collect_genes[gene] = lambda_gene\n"
   ]
  },
  {
   "cell_type": "markdown",
   "metadata": {},
   "source": [
    "# Ab"
   ]
  },
  {
   "cell_type": "code",
   "execution_count": 264,
   "metadata": {},
   "outputs": [],
   "source": [
    "# Read file\n",
    "filename = os.path.join(path, 'lambdas_pmeans_spleen_exons_tags_6tags.tsv')\n",
    "lambda_posterior_meansTAGS = pd.read_csv(filename, index_col=0, sep='\\t', header=[0,1])\n",
    "\n",
    "# Take exp()\n",
    "lambda_posterior_meansTAGS = lambda_posterior_meansTAGS.astype(float)\n",
    "lambda_posterior_meansTAGS = np.exp(lambda_posterior_meansTAGS-1)\n"
   ]
  },
  {
   "cell_type": "code",
   "execution_count": 265,
   "metadata": {},
   "outputs": [],
   "source": [
    "# Change names on genes, ie remove '_'\n",
    "nwe=[]\n",
    "nm=lambda_posterior_meansTAGS.index\n",
    "for item in nm:\n",
    "    nwe.append(str(item).split(\"-\")[0])\n",
    "lambda_posterior_meansTAGS.index = nwe"
   ]
  },
  {
   "cell_type": "code",
   "execution_count": 284,
   "metadata": {},
   "outputs": [],
   "source": [
    "# Select gene\n",
    "pd.set_option('display.max_colwidth', -1)\n",
    "tags = lambda_posterior_meansTAGS.index\n",
    "\n",
    "collect_tags = {}\n",
    "for tag in tags:\n",
    "    lambda_tag = lambda_posterior_meansTAGS.loc[tag, :].to_frame().reset_index()\n",
    "    lambda_tag =  lambda_tag[(lambda_tag[tag] > np.percentile(lambda_tag[tag].values,0.1)) & (lambda_tag[tag] < np.percentile(lambda_tag[tag].values,100))]\n",
    "    # Get name of file, for plotting\n",
    "\n",
    "    # Get name of file, for plotting\n",
    "    lambda_tag['name'] = lambda_tag['file'].str.split('/').str[-1].str.split('_stdata').str[0]\n",
    "\n",
    "    collect_tags[tag] = lambda_tag"
   ]
  },
  {
   "cell_type": "markdown",
   "metadata": {},
   "source": [
    "# Annotation"
   ]
  },
  {
   "cell_type": "code",
   "execution_count": 285,
   "metadata": {
    "scrolled": true
   },
   "outputs": [],
   "source": [
    "annot_list = []\n",
    "\n",
    "for stdata in list(set(lambda_tag['name'].tolist())):\n",
    "    \n",
    "    well = stdata\n",
    "    \n",
    "    #if well == '10015CN88_D2':\n",
    "    #    continue\n",
    "    \n",
    "    filename = os.path.join(path, well + '_stdata_adjusted.tsv.annotations.tsv')\n",
    "\n",
    "    annot_file = pd.read_csv(filename, sep = '\\t')\n",
    "    annot_file = pd.melt(annot_file, id_vars='Unnamed: 0')\n",
    "    annot_file = annot_file[annot_file['value'] != 0]\n",
    "    annot_file['image'] = well\n",
    "    annot_file.drop(['value'], axis=1, inplace=True)\n",
    "    annot_file.rename(columns = {'Unnamed: 0':'value', 'variable':'x_y'}, inplace=True)\n",
    "\n",
    "    annot_list.append(annot_file)\n",
    "    \n",
    "# Concat\n",
    "annotdf = pd.concat(annot_list)\n",
    "\n",
    "#clean up \n",
    "annotdf = annotdf[~annotdf['value'].isin(['White pulp'])]\n",
    "\n"
   ]
  },
  {
   "cell_type": "code",
   "execution_count": 286,
   "metadata": {},
   "outputs": [],
   "source": [
    "annotdf['value'] = annotdf['value'].replace({'B follicle':'B follicle',\n",
    "                         'PALS':'PALS',\n",
    "                         'Marginal zone':'Marginal zone',})"
   ]
  },
  {
   "cell_type": "code",
   "execution_count": 287,
   "metadata": {},
   "outputs": [
    {
     "data": {
      "text/html": [
       "<div>\n",
       "<style scoped>\n",
       "    .dataframe tbody tr th:only-of-type {\n",
       "        vertical-align: middle;\n",
       "    }\n",
       "\n",
       "    .dataframe tbody tr th {\n",
       "        vertical-align: top;\n",
       "    }\n",
       "\n",
       "    .dataframe thead th {\n",
       "        text-align: right;\n",
       "    }\n",
       "</style>\n",
       "<table border=\"1\" class=\"dataframe\">\n",
       "  <thead>\n",
       "    <tr style=\"text-align: right;\">\n",
       "      <th></th>\n",
       "      <th>x_y</th>\n",
       "      <th>image</th>\n",
       "    </tr>\n",
       "    <tr>\n",
       "      <th>value</th>\n",
       "      <th></th>\n",
       "      <th></th>\n",
       "    </tr>\n",
       "  </thead>\n",
       "  <tbody>\n",
       "    <tr>\n",
       "      <th>B follicle</th>\n",
       "      <td>554</td>\n",
       "      <td>554</td>\n",
       "    </tr>\n",
       "    <tr>\n",
       "      <th>Marginal zone</th>\n",
       "      <td>158</td>\n",
       "      <td>158</td>\n",
       "    </tr>\n",
       "    <tr>\n",
       "      <th>PALS</th>\n",
       "      <td>187</td>\n",
       "      <td>187</td>\n",
       "    </tr>\n",
       "    <tr>\n",
       "      <th>Red pulp</th>\n",
       "      <td>903</td>\n",
       "      <td>903</td>\n",
       "    </tr>\n",
       "  </tbody>\n",
       "</table>\n",
       "</div>"
      ],
      "text/plain": [
       "               x_y  image\n",
       "value                    \n",
       "B follicle     554  554  \n",
       "Marginal zone  158  158  \n",
       "PALS           187  187  \n",
       "Red pulp       903  903  "
      ]
     },
     "execution_count": 287,
     "metadata": {},
     "output_type": "execute_result"
    }
   ],
   "source": [
    "annotdf.groupby('value').count()"
   ]
  },
  {
   "cell_type": "markdown",
   "metadata": {},
   "source": [
    "# Merge gene + ab + annotation"
   ]
  },
  {
   "cell_type": "code",
   "execution_count": 310,
   "metadata": {
    "scrolled": false
   },
   "outputs": [],
   "source": [
    "collect_merged = {}\n",
    "for count, gene in enumerate(collect_genes):\n",
    "    \n",
    "    if gene == \"Adgre1\":\n",
    "        tag = \"F480\"\n",
    "    if gene == \"Ighd\":\n",
    "        tag = \"IgD\"\n",
    "    if gene == \"Cd8a\":\n",
    "        tag = \"CD8a\"\n",
    "    if gene == \"Cd4\":\n",
    "        tag = \"CD4\"\n",
    "    if gene == \"Cd38\":\n",
    "        tag = \"CD38\"\n",
    "    if gene == \"Cd163\":\n",
    "        tag = \"CD163\"   \n",
    "        \n",
    "    lambda_gene = collect_genes[gene]\n",
    "    \n",
    "    if not tag in lambda_posterior_meansTAGS.index:\n",
    "        continue\n",
    "    \n",
    "    lambda_tag = collect_tags[tag]\n",
    "              \n",
    "    # clean up naming\n",
    "    lambda_gene = lambda_gene.drop(\"file\", axis = 1)\n",
    "    lambda_tag = lambda_tag.drop(\"file\", axis = 1)\n",
    "    lambda_gene.index = [i+\"_\"+j for i,j in zip(lambda_gene['name'], lambda_gene['coordinate'])]\n",
    "    lambda_tag.index = [i+\"_\"+j for i,j in zip(lambda_tag['name'], lambda_tag['coordinate'])]\n",
    "    annotdf.index = [i+\"_\"+j for i,j in zip(annotdf['image'], annotdf['x_y'])]\n",
    "    \n",
    "    #merge dfs\n",
    "    lambdadfTMP = pd.merge(lambda_gene, lambda_tag,  left_index = True, right_index = True)\n",
    "    lambdadf = pd.merge(lambdadfTMP, annotdf, how='left', left_index = True, right_index = True)\n",
    "    \n",
    "    # select annotation area\n",
    "    lambdadf_rm = lambdadf[lambdadf['value'].isin(['Red pulp','Marginal zone', 'B follicle', 'PALS', 'White pulp'])]\n",
    "    \n",
    "    # check if anything needs removing\n",
    "    # Remove sample (only want 3 samples)\n",
    "    sample_to_rm = ['10015CN87_E2',]\n",
    "    lambdadf_rm = lambdadf_rm[~lambdadf_rm['name_x'].isin(sample_to_rm)]\n",
    "    \n",
    "    #get averages per annotation regions\n",
    "    trans = lambdadf_rm.groupby(['name_x', 'value'])[tag, gene].mean()\n",
    "    trans.reset_index(inplace=True)\n",
    "    scaler = preprocessing.MinMaxScaler()\n",
    "    \n",
    "    # Scale min max per sample\n",
    "    trans[[tag + '.norm', gene + '.norm']] = trans.groupby(['name_x'])[tag, gene].transform(lambda x: preprocessing.minmax_scale(x))#preprocessing.minmax_scale(x))\n",
    "   \n",
    "    #trans[[tag + '.norm', gene + '.norm']] = pd.DataFrame(scaler.fit_transform(trans[[gene, tag]]))\n",
    "    collect_merged[gene] = trans\n"
   ]
  },
  {
   "cell_type": "code",
   "execution_count": 311,
   "metadata": {},
   "outputs": [
    {
     "data": {
      "text/plain": [
       "['/ahg/regevdata/projects/splotch_spatial_transcriptomics/outputs/splotch/STB59_spleen/exons/output/Count_Tables/10015CN87_C1_stdata_adjusted.tsv',\n",
       " '/ahg/regevdata/projects/splotch_spatial_transcriptomics/outputs/splotch/STB59_spleen/exons/output/Count_Tables/10015CN87_D1_stdata_adjusted.tsv',\n",
       " '/ahg/regevdata/projects/splotch_spatial_transcriptomics/outputs/splotch/STB59_spleen/exons/output/Count_Tables/10015CN87_D2_stdata_adjusted.tsv',\n",
       " '/ahg/regevdata/projects/splotch_spatial_transcriptomics/outputs/splotch/STB59_spleen/exons/output/Count_Tables/10015CN87_E2_stdata_adjusted.tsv']"
      ]
     },
     "execution_count": 311,
     "metadata": {},
     "output_type": "execute_result"
    }
   ],
   "source": [
    "list(lambda_posterior_means.columns.levels[0])\n"
   ]
  },
  {
   "cell_type": "code",
   "execution_count": 312,
   "metadata": {},
   "outputs": [
    {
     "name": "stdout",
     "output_type": "stream",
     "text": [
      "Adgre1\n",
      "std err:0.162\n",
      "Spearman's rho: 0.72\n",
      "p-value: 0.008127116175684169\n",
      "Ighd\n",
      "std err:0.214\n",
      "Spearman's rho: 0.66\n",
      "p-value: 0.019934452177197543\n",
      "Cd8a\n",
      "std err:0.036\n",
      "Spearman's rho: 0.91\n",
      "p-value: 4.808020251441543e-05\n",
      "Cd4\n",
      "std err:0.208\n",
      "Spearman's rho: 0.25\n",
      "p-value: 0.4323794026664418\n",
      "Cd38\n",
      "std err:0.285\n",
      "Spearman's rho: 0.64\n",
      "p-value: 0.024906395789909976\n",
      "Cd163\n",
      "std err:0.24\n",
      "Spearman's rho: -0.78\n",
      "p-value: 0.0028501058579829593\n"
     ]
    },
    {
     "data": {
      "image/png": "[encoded data removed]",
      "text/plain": [
       "<Figure size 864x576 with 6 Axes>"
      ]
     },
     "metadata": {
      "needs_background": "light"
     },
     "output_type": "display_data"
    }
   ],
   "source": [
    "# initialize a figure\n",
    "fig = matplotlib.pyplot.figure(figsize=(12, 8))\n",
    "num_cols = 3\n",
    "axes = []\n",
    "\n",
    "for i in range(0,int((int(len(genes)+2)/num_cols))):\n",
    "    for j in range(0, num_cols):\n",
    "        ax = plt.subplot2grid((int((len(genes)+2)/num_cols+1), num_cols), (i, j))\n",
    "        axes.append(ax) \n",
    "for count, gene in enumerate(collect_merged):\n",
    "\n",
    "    ax = axes[count]\n",
    "    plot_trans = collect_merged[gene]\n",
    "    \n",
    "    if gene == \"Adgre1\":\n",
    "        tag = \"F480\"\n",
    "    if gene == \"Ighd\":\n",
    "        tag = \"IgD\"\n",
    "    if gene == \"Cd8a\":\n",
    "        tag = \"CD8a\"\n",
    "    if gene == \"Cd4\":\n",
    "        tag = \"CD4\"\n",
    "    if gene == \"Cd38\":\n",
    "        tag = \"CD38\"\n",
    "    if gene == \"Cd163\":\n",
    "        tag = \"CD163\"\n",
    "    \n",
    "    if not tag + '.norm' in plot_trans.columns:\n",
    "        continue\n",
    "\n",
    "    plot_trans['jitter_y'] = plot_trans[tag + '.norm'] + 0.05 * np.random.rand(len(plot_trans[tag + '.norm'].tolist())) +0.01\n",
    "    plot_trans['jitter_x'] = plot_trans[gene + '.norm'] + 0.05 * np.random.rand(len(plot_trans[gene + '.norm'].tolist())) +0.01\n",
    "    x = 'jitter_x'\n",
    "    y = 'jitter_y'\n",
    "    hue = 'value'\n",
    "    palette = {'Red pulp':'c', 'B follicle':'m', 'PALS':'y', 'Marginal zone':'k', 'White pulp':'r', 'IGDpos':'b'}\n",
    "    data = plot_trans\n",
    "\n",
    "    sns.scatterplot(x=x, y=y, data=data, ax=ax, hue=hue, s=50, linewidth=0, palette=palette)\n",
    "\n",
    "    # X and Y axis\n",
    "    ax.set_xlabel(gene + '.norm')\n",
    "    ax.set_ylabel(tag + '.norm')\n",
    "\n",
    "    # Calculate the linear regression\n",
    "    X = gene + '.norm'\n",
    "    Y = tag + '.norm'\n",
    "\n",
    "    slope, intercept, r_value, p_value, std_err = linregress(data[X], data[Y])\n",
    "\n",
    "    print(gene)\n",
    "    print('std err:' + str(round(std_err, 3)))\n",
    "\n",
    "    coef = np.polyfit(data[X],data[y],1)\n",
    "    poly1d_fn = np.poly1d(coef)\n",
    "    ax.plot(data[X], poly1d_fn(data[X]), c=\"k\")\n",
    "    ax.plot(data[X], poly1d_fn(data[X])+std_err, c=\"grey\")\n",
    "    ax.plot(data[X], poly1d_fn(data[X])-std_err, c=\"grey\")\n",
    "    #ax.errorbar(trans[x], poly1d_fn(trans[x]), yerr=poly1d_fn(trans[x]) - trans[y], fmt='.k')\n",
    "\n",
    "    # Spearman's & Pearson's r\n",
    "    spear, ps = spearmanr(data[X], data[Y])\n",
    "    pear, pp = pearsonr(data[X], data[Y])\n",
    "    print(\"Spearman's rho: \" + str(round(spear, 2)))\n",
    "    print(\"p-value: \" + str(ps))\n",
    "\n",
    "    ax.text(0.05, 0.9, \"Spearman's rho: \" + str(round(spear, 2)), transform=ax.transAxes, fontsize=10)\n",
    "    ax.text(0.05, 0.8, \"p-value: \" + str(round(ps, 5)), transform=ax.transAxes, fontsize=10)\n",
    "    #ax.get_legend().remove()\n",
    "\n",
    "    # title\n",
    "    ax.set_title(gene)\n",
    "\n",
    "    ax.set_xlim([-0.05, 1.05])\n",
    "    ax.set_ylim([-0.05, 1.05])\n",
    "    ax.legend(loc='center left', bbox_to_anchor=(1, 0.5))\n",
    "    plt.tight_layout()\n",
    "\n",
    "plt.savefig(\"../../figures/sm_mrna_vs_tags.pdf\", transparent=True, bbox_inches = 'tight',\n",
    "   pad_inches = 0, dpi=1200, rasterized=True)"
   ]
  },
  {
   "cell_type": "code",
   "execution_count": null,
   "metadata": {},
   "outputs": [],
   "source": []
  },
  {
   "cell_type": "code",
   "execution_count": null,
   "metadata": {},
   "outputs": [],
   "source": []
  }
 ],
 "metadata": {
  "kernelspec": {
   "display_name": "Python 3",
   "language": "python",
   "name": "python3"
  },
  "language_info": {
   "codemirror_mode": {
    "name": "ipython",
    "version": 3
   },
   "file_extension": ".py",
   "mimetype": "text/x-python",
   "name": "python",
   "nbconvert_exporter": "python",
   "pygments_lexer": "ipython3",
   "version": "3.9.2"
  }
 },
 "nbformat": 4,
 "nbformat_minor": 4
}
