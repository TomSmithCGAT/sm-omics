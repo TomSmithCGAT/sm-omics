{
 "cells": [
  {
   "cell_type": "markdown",
   "metadata": {},
   "source": [
    "Plot the correlation between tags and transcriptome signal.\n",
    "\n",
    "Input: splotch lambdas files STB59\n",
    "\n",
    "Annotation file is the covariets file from splotch"
   ]
  },
  {
   "cell_type": "code",
   "execution_count": 1,
   "metadata": {},
   "outputs": [],
   "source": [
    "from __future__ import absolute_import, division, print_function\n",
    "\n",
    "import os\n",
    "import re\n",
    "import glob\n",
    "import matplotlib\n",
    "import matplotlib.pyplot as plt\n",
    "import pickle\n",
    "import pandas as pd\n",
    "from sklearn import preprocessing\n",
    "from scipy.stats import linregress, spearmanr, pearsonr\n",
    "import numpy as np\n",
    "import math\n",
    "\n",
    "import seaborn as sns\n",
    "\n",
    "from PIL import Image\n",
    "Image.MAX_IMAGE_PIXELS = 1000000000\n",
    "\n",
    "%matplotlib inline\n",
    "\n",
    "matplotlib.rcParams.update({'axes.linewidth': 0.25,\n",
    "                            'xtick.major.size': 2,\n",
    "                            'xtick.major.width': 0.25,\n",
    "                            'ytick.major.size': 2,\n",
    "                            'ytick.major.width': 0.25,\n",
    "                            'pdf.fonttype': 42,\n",
    "                            'font.sans-serif': 'Arial',\n",
    "                           'ps.fonttype':42})"
   ]
  },
  {
   "cell_type": "code",
   "execution_count": 2,
   "metadata": {},
   "outputs": [],
   "source": [
    "path = '../../smomics_data'\n"
   ]
  },
  {
   "cell_type": "markdown",
   "metadata": {},
   "source": [
    "# mRNA"
   ]
  },
  {
   "cell_type": "code",
   "execution_count": 3,
   "metadata": {
    "scrolled": true
   },
   "outputs": [
    {
     "ename": "FileNotFoundError",
     "evalue": "[Errno 2] No such file or directory: '../../smomics_data/lambdas_pmeans_gene.tsv'",
     "output_type": "error",
     "traceback": [
      "\u001b[0;31m---------------------------------------------------------------------------\u001b[0m",
      "\u001b[0;31mFileNotFoundError\u001b[0m                         Traceback (most recent call last)",
      "\u001b[0;32m<ipython-input-3-bd0be8696192>\u001b[0m in \u001b[0;36m<module>\u001b[0;34m\u001b[0m\n\u001b[1;32m      4\u001b[0m \u001b[0mfilename\u001b[0m \u001b[0;34m=\u001b[0m \u001b[0mos\u001b[0m\u001b[0;34m.\u001b[0m\u001b[0mpath\u001b[0m\u001b[0;34m.\u001b[0m\u001b[0mjoin\u001b[0m\u001b[0;34m(\u001b[0m\u001b[0mpath\u001b[0m\u001b[0;34m,\u001b[0m \u001b[0;34m'lambdas_pmeans_gene.tsv'\u001b[0m\u001b[0;34m)\u001b[0m\u001b[0;34m\u001b[0m\u001b[0;34m\u001b[0m\u001b[0m\n\u001b[1;32m      5\u001b[0m \u001b[0;34m\u001b[0m\u001b[0m\n\u001b[0;32m----> 6\u001b[0;31m \u001b[0mlambda_posterior_means\u001b[0m \u001b[0;34m=\u001b[0m \u001b[0mpd\u001b[0m\u001b[0;34m.\u001b[0m\u001b[0mread_csv\u001b[0m\u001b[0;34m(\u001b[0m\u001b[0mfilename\u001b[0m\u001b[0;34m,\u001b[0m \u001b[0mindex_col\u001b[0m\u001b[0;34m=\u001b[0m\u001b[0;36m0\u001b[0m\u001b[0;34m,\u001b[0m \u001b[0msep\u001b[0m\u001b[0;34m=\u001b[0m\u001b[0;34m'\\t'\u001b[0m\u001b[0;34m,\u001b[0m \u001b[0mheader\u001b[0m\u001b[0;34m=\u001b[0m\u001b[0;34m[\u001b[0m\u001b[0;36m0\u001b[0m\u001b[0;34m,\u001b[0m\u001b[0;36m1\u001b[0m\u001b[0;34m]\u001b[0m\u001b[0;34m)\u001b[0m\u001b[0;34m\u001b[0m\u001b[0;34m\u001b[0m\u001b[0m\n\u001b[0m",
      "\u001b[0;32m~/miniconda2/envs/smomics/lib/python3.9/site-packages/pandas/io/parsers.py\u001b[0m in \u001b[0;36mread_csv\u001b[0;34m(filepath_or_buffer, sep, delimiter, header, names, index_col, usecols, squeeze, prefix, mangle_dupe_cols, dtype, engine, converters, true_values, false_values, skipinitialspace, skiprows, skipfooter, nrows, na_values, keep_default_na, na_filter, verbose, skip_blank_lines, parse_dates, infer_datetime_format, keep_date_col, date_parser, dayfirst, cache_dates, iterator, chunksize, compression, thousands, decimal, lineterminator, quotechar, quoting, doublequote, escapechar, comment, encoding, dialect, error_bad_lines, warn_bad_lines, delim_whitespace, low_memory, memory_map, float_precision, storage_options)\u001b[0m\n\u001b[1;32m    608\u001b[0m     \u001b[0mkwds\u001b[0m\u001b[0;34m.\u001b[0m\u001b[0mupdate\u001b[0m\u001b[0;34m(\u001b[0m\u001b[0mkwds_defaults\u001b[0m\u001b[0;34m)\u001b[0m\u001b[0;34m\u001b[0m\u001b[0;34m\u001b[0m\u001b[0m\n\u001b[1;32m    609\u001b[0m \u001b[0;34m\u001b[0m\u001b[0m\n\u001b[0;32m--> 610\u001b[0;31m     \u001b[0;32mreturn\u001b[0m \u001b[0m_read\u001b[0m\u001b[0;34m(\u001b[0m\u001b[0mfilepath_or_buffer\u001b[0m\u001b[0;34m,\u001b[0m \u001b[0mkwds\u001b[0m\u001b[0;34m)\u001b[0m\u001b[0;34m\u001b[0m\u001b[0;34m\u001b[0m\u001b[0m\n\u001b[0m\u001b[1;32m    611\u001b[0m \u001b[0;34m\u001b[0m\u001b[0m\n\u001b[1;32m    612\u001b[0m \u001b[0;34m\u001b[0m\u001b[0m\n",
      "\u001b[0;32m~/miniconda2/envs/smomics/lib/python3.9/site-packages/pandas/io/parsers.py\u001b[0m in \u001b[0;36m_read\u001b[0;34m(filepath_or_buffer, kwds)\u001b[0m\n\u001b[1;32m    460\u001b[0m \u001b[0;34m\u001b[0m\u001b[0m\n\u001b[1;32m    461\u001b[0m     \u001b[0;31m# Create the parser.\u001b[0m\u001b[0;34m\u001b[0m\u001b[0;34m\u001b[0m\u001b[0;34m\u001b[0m\u001b[0m\n\u001b[0;32m--> 462\u001b[0;31m     \u001b[0mparser\u001b[0m \u001b[0;34m=\u001b[0m \u001b[0mTextFileReader\u001b[0m\u001b[0;34m(\u001b[0m\u001b[0mfilepath_or_buffer\u001b[0m\u001b[0;34m,\u001b[0m \u001b[0;34m**\u001b[0m\u001b[0mkwds\u001b[0m\u001b[0;34m)\u001b[0m\u001b[0;34m\u001b[0m\u001b[0;34m\u001b[0m\u001b[0m\n\u001b[0m\u001b[1;32m    463\u001b[0m \u001b[0;34m\u001b[0m\u001b[0m\n\u001b[1;32m    464\u001b[0m     \u001b[0;32mif\u001b[0m \u001b[0mchunksize\u001b[0m \u001b[0;32mor\u001b[0m \u001b[0miterator\u001b[0m\u001b[0;34m:\u001b[0m\u001b[0;34m\u001b[0m\u001b[0;34m\u001b[0m\u001b[0m\n",
      "\u001b[0;32m~/miniconda2/envs/smomics/lib/python3.9/site-packages/pandas/io/parsers.py\u001b[0m in \u001b[0;36m__init__\u001b[0;34m(self, f, engine, **kwds)\u001b[0m\n\u001b[1;32m    817\u001b[0m             \u001b[0mself\u001b[0m\u001b[0;34m.\u001b[0m\u001b[0moptions\u001b[0m\u001b[0;34m[\u001b[0m\u001b[0;34m\"has_index_names\"\u001b[0m\u001b[0;34m]\u001b[0m \u001b[0;34m=\u001b[0m \u001b[0mkwds\u001b[0m\u001b[0;34m[\u001b[0m\u001b[0;34m\"has_index_names\"\u001b[0m\u001b[0;34m]\u001b[0m\u001b[0;34m\u001b[0m\u001b[0;34m\u001b[0m\u001b[0m\n\u001b[1;32m    818\u001b[0m \u001b[0;34m\u001b[0m\u001b[0m\n\u001b[0;32m--> 819\u001b[0;31m         \u001b[0mself\u001b[0m\u001b[0;34m.\u001b[0m\u001b[0m_engine\u001b[0m \u001b[0;34m=\u001b[0m \u001b[0mself\u001b[0m\u001b[0;34m.\u001b[0m\u001b[0m_make_engine\u001b[0m\u001b[0;34m(\u001b[0m\u001b[0mself\u001b[0m\u001b[0;34m.\u001b[0m\u001b[0mengine\u001b[0m\u001b[0;34m)\u001b[0m\u001b[0;34m\u001b[0m\u001b[0;34m\u001b[0m\u001b[0m\n\u001b[0m\u001b[1;32m    820\u001b[0m \u001b[0;34m\u001b[0m\u001b[0m\n\u001b[1;32m    821\u001b[0m     \u001b[0;32mdef\u001b[0m \u001b[0mclose\u001b[0m\u001b[0;34m(\u001b[0m\u001b[0mself\u001b[0m\u001b[0;34m)\u001b[0m\u001b[0;34m:\u001b[0m\u001b[0;34m\u001b[0m\u001b[0;34m\u001b[0m\u001b[0m\n",
      "\u001b[0;32m~/miniconda2/envs/smomics/lib/python3.9/site-packages/pandas/io/parsers.py\u001b[0m in \u001b[0;36m_make_engine\u001b[0;34m(self, engine)\u001b[0m\n\u001b[1;32m   1048\u001b[0m             )\n\u001b[1;32m   1049\u001b[0m         \u001b[0;31m# error: Too many arguments for \"ParserBase\"\u001b[0m\u001b[0;34m\u001b[0m\u001b[0;34m\u001b[0m\u001b[0;34m\u001b[0m\u001b[0m\n\u001b[0;32m-> 1050\u001b[0;31m         \u001b[0;32mreturn\u001b[0m \u001b[0mmapping\u001b[0m\u001b[0;34m[\u001b[0m\u001b[0mengine\u001b[0m\u001b[0;34m]\u001b[0m\u001b[0;34m(\u001b[0m\u001b[0mself\u001b[0m\u001b[0;34m.\u001b[0m\u001b[0mf\u001b[0m\u001b[0;34m,\u001b[0m \u001b[0;34m**\u001b[0m\u001b[0mself\u001b[0m\u001b[0;34m.\u001b[0m\u001b[0moptions\u001b[0m\u001b[0;34m)\u001b[0m  \u001b[0;31m# type: ignore[call-arg]\u001b[0m\u001b[0;34m\u001b[0m\u001b[0;34m\u001b[0m\u001b[0m\n\u001b[0m\u001b[1;32m   1051\u001b[0m \u001b[0;34m\u001b[0m\u001b[0m\n\u001b[1;32m   1052\u001b[0m     \u001b[0;32mdef\u001b[0m \u001b[0m_failover_to_python\u001b[0m\u001b[0;34m(\u001b[0m\u001b[0mself\u001b[0m\u001b[0;34m)\u001b[0m\u001b[0;34m:\u001b[0m\u001b[0;34m\u001b[0m\u001b[0;34m\u001b[0m\u001b[0m\n",
      "\u001b[0;32m~/miniconda2/envs/smomics/lib/python3.9/site-packages/pandas/io/parsers.py\u001b[0m in \u001b[0;36m__init__\u001b[0;34m(self, src, **kwds)\u001b[0m\n\u001b[1;32m   1865\u001b[0m \u001b[0;34m\u001b[0m\u001b[0m\n\u001b[1;32m   1866\u001b[0m         \u001b[0;31m# open handles\u001b[0m\u001b[0;34m\u001b[0m\u001b[0;34m\u001b[0m\u001b[0;34m\u001b[0m\u001b[0m\n\u001b[0;32m-> 1867\u001b[0;31m         \u001b[0mself\u001b[0m\u001b[0;34m.\u001b[0m\u001b[0m_open_handles\u001b[0m\u001b[0;34m(\u001b[0m\u001b[0msrc\u001b[0m\u001b[0;34m,\u001b[0m \u001b[0mkwds\u001b[0m\u001b[0;34m)\u001b[0m\u001b[0;34m\u001b[0m\u001b[0;34m\u001b[0m\u001b[0m\n\u001b[0m\u001b[1;32m   1868\u001b[0m         \u001b[0;32massert\u001b[0m \u001b[0mself\u001b[0m\u001b[0;34m.\u001b[0m\u001b[0mhandles\u001b[0m \u001b[0;32mis\u001b[0m \u001b[0;32mnot\u001b[0m \u001b[0;32mNone\u001b[0m\u001b[0;34m\u001b[0m\u001b[0;34m\u001b[0m\u001b[0m\n\u001b[1;32m   1869\u001b[0m         \u001b[0;32mfor\u001b[0m \u001b[0mkey\u001b[0m \u001b[0;32min\u001b[0m \u001b[0;34m(\u001b[0m\u001b[0;34m\"storage_options\"\u001b[0m\u001b[0;34m,\u001b[0m \u001b[0;34m\"encoding\"\u001b[0m\u001b[0;34m,\u001b[0m \u001b[0;34m\"memory_map\"\u001b[0m\u001b[0;34m,\u001b[0m \u001b[0;34m\"compression\"\u001b[0m\u001b[0;34m)\u001b[0m\u001b[0;34m:\u001b[0m\u001b[0;34m\u001b[0m\u001b[0;34m\u001b[0m\u001b[0m\n",
      "\u001b[0;32m~/miniconda2/envs/smomics/lib/python3.9/site-packages/pandas/io/parsers.py\u001b[0m in \u001b[0;36m_open_handles\u001b[0;34m(self, src, kwds)\u001b[0m\n\u001b[1;32m   1360\u001b[0m         \u001b[0mLet\u001b[0m \u001b[0mthe\u001b[0m \u001b[0mreaders\u001b[0m \u001b[0mopen\u001b[0m \u001b[0mIOHanldes\u001b[0m \u001b[0mafter\u001b[0m \u001b[0mthey\u001b[0m \u001b[0mare\u001b[0m \u001b[0mdone\u001b[0m \u001b[0;32mwith\u001b[0m \u001b[0mtheir\u001b[0m \u001b[0mpotential\u001b[0m \u001b[0mraises\u001b[0m\u001b[0;34m.\u001b[0m\u001b[0;34m\u001b[0m\u001b[0;34m\u001b[0m\u001b[0m\n\u001b[1;32m   1361\u001b[0m         \"\"\"\n\u001b[0;32m-> 1362\u001b[0;31m         self.handles = get_handle(\n\u001b[0m\u001b[1;32m   1363\u001b[0m             \u001b[0msrc\u001b[0m\u001b[0;34m,\u001b[0m\u001b[0;34m\u001b[0m\u001b[0;34m\u001b[0m\u001b[0m\n\u001b[1;32m   1364\u001b[0m             \u001b[0;34m\"r\"\u001b[0m\u001b[0;34m,\u001b[0m\u001b[0;34m\u001b[0m\u001b[0;34m\u001b[0m\u001b[0m\n",
      "\u001b[0;32m~/miniconda2/envs/smomics/lib/python3.9/site-packages/pandas/io/common.py\u001b[0m in \u001b[0;36mget_handle\u001b[0;34m(path_or_buf, mode, encoding, compression, memory_map, is_text, errors, storage_options)\u001b[0m\n\u001b[1;32m    640\u001b[0m                 \u001b[0merrors\u001b[0m \u001b[0;34m=\u001b[0m \u001b[0;34m\"replace\"\u001b[0m\u001b[0;34m\u001b[0m\u001b[0;34m\u001b[0m\u001b[0m\n\u001b[1;32m    641\u001b[0m             \u001b[0;31m# Encoding\u001b[0m\u001b[0;34m\u001b[0m\u001b[0;34m\u001b[0m\u001b[0;34m\u001b[0m\u001b[0m\n\u001b[0;32m--> 642\u001b[0;31m             handle = open(\n\u001b[0m\u001b[1;32m    643\u001b[0m                 \u001b[0mhandle\u001b[0m\u001b[0;34m,\u001b[0m\u001b[0;34m\u001b[0m\u001b[0;34m\u001b[0m\u001b[0m\n\u001b[1;32m    644\u001b[0m                 \u001b[0mioargs\u001b[0m\u001b[0;34m.\u001b[0m\u001b[0mmode\u001b[0m\u001b[0;34m,\u001b[0m\u001b[0;34m\u001b[0m\u001b[0;34m\u001b[0m\u001b[0m\n",
      "\u001b[0;31mFileNotFoundError\u001b[0m: [Errno 2] No such file or directory: '../../smomics_data/lambdas_pmeans_gene.tsv'"
     ]
    }
   ],
   "source": [
    "# Load Lambda pmean df\n",
    "\n",
    "# Read file\n",
    "filename = os.path.join(path, 'lambdas_pmeans_gene.tsv')\n",
    "    \n",
    "lambda_posterior_means = pd.read_csv(filename, index_col=0, sep='\\t', header=[0,1])"
   ]
  },
  {
   "cell_type": "code",
   "execution_count": 5,
   "metadata": {
    "scrolled": true
   },
   "outputs": [],
   "source": [
    "# Change names on genes, ie remove '_'\n",
    "nwe=[]\n",
    "nm=lambda_posterior_means.index\n",
    "for item in nm:\n",
    "    nwe.append(str(item).split(\"_\")[0])\n",
    "lambda_posterior_means.index = nwe\n",
    "\n",
    "# Take exp()\n",
    "lambda_posterior_means = lambda_posterior_means.astype(float)\n",
    "lambda_posterior_means = np.exp(lambda_posterior_means-1)\n"
   ]
  },
  {
   "cell_type": "code",
   "execution_count": 6,
   "metadata": {},
   "outputs": [
    {
     "name": "stdout",
     "output_type": "stream",
     "text": [
      "                                                                                                                                              file  \\\n",
      "0  /ahg/regevdata/projects/splotch_spatial_transcriptomics/outputs/splotch/STB59_spleen/exons/output/Count_Tables/10015CN87_D1_stdata_adjusted.tsv   \n",
      "1  /ahg/regevdata/projects/splotch_spatial_transcriptomics/outputs/splotch/STB59_spleen/exons/output/Count_Tables/10015CN87_D1_stdata_adjusted.tsv   \n",
      "2  /ahg/regevdata/projects/splotch_spatial_transcriptomics/outputs/splotch/STB59_spleen/exons/output/Count_Tables/10015CN87_D1_stdata_adjusted.tsv   \n",
      "3  /ahg/regevdata/projects/splotch_spatial_transcriptomics/outputs/splotch/STB59_spleen/exons/output/Count_Tables/10015CN87_D1_stdata_adjusted.tsv   \n",
      "4  /ahg/regevdata/projects/splotch_spatial_transcriptomics/outputs/splotch/STB59_spleen/exons/output/Count_Tables/10015CN87_D1_stdata_adjusted.tsv   \n",
      "\n",
      "  coordinate        Adgre1          name  \n",
      "0  30_24      5.955317e-27  10015CN87_D1  \n",
      "1  23_20      2.228341e-03  10015CN87_D1  \n",
      "2  12_13      1.256923e-03  10015CN87_D1  \n",
      "3  29_19      2.049715e-03  10015CN87_D1  \n",
      "4  15_16      2.238984e-03  10015CN87_D1   (1805, 4)\n"
     ]
    }
   ],
   "source": [
    "# Select Ighd gene\n",
    "pd.set_option('display.max_colwidth', -1)\n",
    "gene = 'Adgre1'\n",
    "\n",
    "lambda_gene = lambda_posterior_means.loc[gene, :].to_frame().reset_index()\n",
    "\n",
    "# Get name of file, for plotting\n",
    "lambda_gene['name'] = lambda_gene['file'].str.split('/').str[-1].str.split('_stdata').str[0]\n",
    "\n",
    "print(lambda_gene.head(), lambda_gene.shape)\n"
   ]
  },
  {
   "cell_type": "markdown",
   "metadata": {},
   "source": [
    "# Ab"
   ]
  },
  {
   "cell_type": "code",
   "execution_count": 7,
   "metadata": {},
   "outputs": [],
   "source": [
    "# Load Lambda pmean df\n",
    "\n",
    "# Read file\n",
    "filename = os.path.join(path, 'lambdas_pmeans_tags.tsv')\n",
    "    \n",
    "lambda_posterior_meansTAGS = pd.read_csv(filename, index_col=0, sep='\\t', header=[0,1])\n",
    "\n",
    "# Take exp()\n",
    "lambda_posterior_meansTAGS = lambda_posterior_meansTAGS.astype(float)\n",
    "lambda_posterior_meansTAGS = np.exp(lambda_posterior_meansTAGS-1)\n"
   ]
  },
  {
   "cell_type": "code",
   "execution_count": 8,
   "metadata": {},
   "outputs": [
    {
     "name": "stdout",
     "output_type": "stream",
     "text": [
      "                                                                                                                                             file  \\\n",
      "0  /ahg/regevdata/projects/splotch_spatial_transcriptomics/outputs/splotch/tags/spleen_stn59/output/Count_Tables/10015CN87_D1_stdata_adjusted.tsv   \n",
      "1  /ahg/regevdata/projects/splotch_spatial_transcriptomics/outputs/splotch/tags/spleen_stn59/output/Count_Tables/10015CN87_D1_stdata_adjusted.tsv   \n",
      "2  /ahg/regevdata/projects/splotch_spatial_transcriptomics/outputs/splotch/tags/spleen_stn59/output/Count_Tables/10015CN87_D1_stdata_adjusted.tsv   \n",
      "3  /ahg/regevdata/projects/splotch_spatial_transcriptomics/outputs/splotch/tags/spleen_stn59/output/Count_Tables/10015CN87_D1_stdata_adjusted.tsv   \n",
      "4  /ahg/regevdata/projects/splotch_spatial_transcriptomics/outputs/splotch/tags/spleen_stn59/output/Count_Tables/10015CN87_D1_stdata_adjusted.tsv   \n",
      "\n",
      "  coordinate  F480-TTAACTTCAGCCCGT          name  \n",
      "0  30_24      55.072993             10015CN87_D1  \n",
      "1  23_20      61.674271             10015CN87_D1  \n",
      "2  12_13      58.652747             10015CN87_D1  \n",
      "3  29_19      66.903913             10015CN87_D1  \n",
      "4  15_16      65.597603             10015CN87_D1   (1805, 4)\n"
     ]
    }
   ],
   "source": [
    "ab = 'F480-TTAACTTCAGCCCGT'\n",
    "\n",
    "lambda_tag = lambda_posterior_meansTAGS.loc[ab, :].to_frame().reset_index()\n",
    "\n",
    "# Get name of file, for plotting\n",
    "lambda_tag['name'] = lambda_tag['file'].str.split('/').str[-1].str.split('_stdata').str[0]\n",
    "\n",
    "print(lambda_tag.head(), lambda_tag.shape)"
   ]
  },
  {
   "cell_type": "markdown",
   "metadata": {},
   "source": [
    "# Annotation"
   ]
  },
  {
   "cell_type": "code",
   "execution_count": 9,
   "metadata": {
    "scrolled": true
   },
   "outputs": [
    {
     "name": "stdout",
     "output_type": "stream",
     "text": [
      "         value    x_y         image\n",
      "0   B follicle  18_3   10015CN87_C1\n",
      "8   Red pulp    23_9   10015CN87_C1\n",
      "13  Red pulp    18_33  10015CN87_C1\n",
      "18  Red pulp    15_13  10015CN87_C1\n",
      "23  Red pulp    13_8   10015CN87_C1\n"
     ]
    }
   ],
   "source": [
    "annot_list = []\n",
    "\n",
    "for stdata in list(set(lambda_tag['name'].tolist())):\n",
    "    \n",
    "    well = stdata\n",
    "    \n",
    "    filename = os.path.join(path, well + '_stdata_adjusted.tsv.annotations.tsv')\n",
    "\n",
    "    annot_file = pd.read_csv(filename, sep = '\\t')\n",
    "    annot_file = pd.melt(annot_file, id_vars='Unnamed: 0')\n",
    "    annot_file = annot_file[annot_file['value'] != 0]\n",
    "    annot_file['image'] = well\n",
    "    annot_file.drop(['value'], axis=1, inplace=True)\n",
    "    annot_file.rename(columns = {'Unnamed: 0':'value', 'variable':'x_y'}, inplace=True)\n",
    "\n",
    "    annot_list.append(annot_file)\n",
    "    \n",
    "# Concat\n",
    "annotdf = pd.concat(annot_list)\n",
    "\n",
    "print(annotdf.head())"
   ]
  },
  {
   "cell_type": "code",
   "execution_count": 10,
   "metadata": {
    "scrolled": true
   },
   "outputs": [
    {
     "name": "stdout",
     "output_type": "stream",
     "text": [
      "['10015CN87_C1', '10015CN87_D1', '10015CN87_D2', '10015CN87_E2']\n",
      "                            x_y\n",
      "image        value             \n",
      "10015CN87_C1 B follicle     170\n",
      "             Marginal zone  54 \n",
      "             PALS           66 \n",
      "             Red pulp       282\n",
      "             White pulp     3  \n",
      "10015CN87_D1 B follicle     140\n",
      "             Marginal zone  31 \n",
      "             PALS           40 \n",
      "             Red pulp       213\n",
      "10015CN87_D2 B follicle     140\n",
      "             Marginal zone  34 \n",
      "             PALS           54 \n",
      "             Red pulp       237\n",
      "10015CN87_E2 B follicle     102\n",
      "             Marginal zone  32 \n",
      "             PALS           33 \n",
      "             Red pulp       174\n"
     ]
    }
   ],
   "source": [
    "print(list(set(annotdf['image'].tolist())))\n",
    "\n",
    "\n",
    "# How many spots of each region?\n",
    "print(annotdf.groupby(['image', 'value']).count())"
   ]
  },
  {
   "cell_type": "markdown",
   "metadata": {},
   "source": [
    "# Merge gene + ab + annotation"
   ]
  },
  {
   "cell_type": "code",
   "execution_count": 11,
   "metadata": {
    "scrolled": false
   },
   "outputs": [
    {
     "name": "stdout",
     "output_type": "stream",
     "text": [
      "                                                                                                                                            file_x  \\\n",
      "0  /ahg/regevdata/projects/splotch_spatial_transcriptomics/outputs/splotch/STB59_spleen/exons/output/Count_Tables/10015CN87_D1_stdata_adjusted.tsv   \n",
      "1  /ahg/regevdata/projects/splotch_spatial_transcriptomics/outputs/splotch/STB59_spleen/exons/output/Count_Tables/10015CN87_D1_stdata_adjusted.tsv   \n",
      "2  /ahg/regevdata/projects/splotch_spatial_transcriptomics/outputs/splotch/STB59_spleen/exons/output/Count_Tables/10015CN87_D1_stdata_adjusted.tsv   \n",
      "3  /ahg/regevdata/projects/splotch_spatial_transcriptomics/outputs/splotch/STB59_spleen/exons/output/Count_Tables/10015CN87_D1_stdata_adjusted.tsv   \n",
      "4  /ahg/regevdata/projects/splotch_spatial_transcriptomics/outputs/splotch/STB59_spleen/exons/output/Count_Tables/10015CN87_D1_stdata_adjusted.tsv   \n",
      "\n",
      "  coordinate        Adgre1          name  \\\n",
      "0  30_24      5.955317e-27  10015CN87_D1   \n",
      "1  23_20      2.228341e-03  10015CN87_D1   \n",
      "2  12_13      1.256923e-03  10015CN87_D1   \n",
      "3  29_19      2.049715e-03  10015CN87_D1   \n",
      "4  15_16      2.238984e-03  10015CN87_D1   \n",
      "\n",
      "                                                                                                                                           file_y  \\\n",
      "0  /ahg/regevdata/projects/splotch_spatial_transcriptomics/outputs/splotch/tags/spleen_stn59/output/Count_Tables/10015CN87_D1_stdata_adjusted.tsv   \n",
      "1  /ahg/regevdata/projects/splotch_spatial_transcriptomics/outputs/splotch/tags/spleen_stn59/output/Count_Tables/10015CN87_D1_stdata_adjusted.tsv   \n",
      "2  /ahg/regevdata/projects/splotch_spatial_transcriptomics/outputs/splotch/tags/spleen_stn59/output/Count_Tables/10015CN87_D1_stdata_adjusted.tsv   \n",
      "3  /ahg/regevdata/projects/splotch_spatial_transcriptomics/outputs/splotch/tags/spleen_stn59/output/Count_Tables/10015CN87_D1_stdata_adjusted.tsv   \n",
      "4  /ahg/regevdata/projects/splotch_spatial_transcriptomics/outputs/splotch/tags/spleen_stn59/output/Count_Tables/10015CN87_D1_stdata_adjusted.tsv   \n",
      "\n",
      "   F480-TTAACTTCAGCCCGT       value    x_y         image  \n",
      "0  55.072993             PALS        30_24  10015CN87_D1  \n",
      "1  61.674271             Red pulp    23_20  10015CN87_D1  \n",
      "2  58.652747             B follicle  12_13  10015CN87_D1  \n",
      "3  66.903913             Red pulp    29_19  10015CN87_D1  \n",
      "4  65.597603             Red pulp    15_16  10015CN87_D1  \n"
     ]
    }
   ],
   "source": [
    "lambdadfTMP = pd.merge(lambda_gene, lambda_tag,  how='left', on=['name','coordinate'])\n",
    "lambdadf = pd.merge(lambdadfTMP, annotdf, how='left', left_on=['name','coordinate'], right_on=['image', 'x_y'])\n",
    "\n",
    "print(lambdadf.head())\n"
   ]
  },
  {
   "cell_type": "code",
   "execution_count": 12,
   "metadata": {},
   "outputs": [],
   "source": [
    "# Only lok at specific regions\n",
    "lambdadf_rm = lambdadf[lambdadf['value'].isin(['Red pulp', 'B follicle', 'PALS', 'Marginal zone'])]\n",
    "#lambdadf_rm = lambdadf.copy()"
   ]
  },
  {
   "cell_type": "code",
   "execution_count": 13,
   "metadata": {},
   "outputs": [
    {
     "name": "stdout",
     "output_type": "stream",
     "text": [
      "['10015CN87_C1', '10015CN87_D1', '10015CN87_D2']\n"
     ]
    }
   ],
   "source": [
    "# Remove sample (only want 3 samples)\n",
    "\n",
    "sample_to_rm = ['10015CN87_E2']\n",
    "\n",
    "lambdadf_rm = lambdadf_rm[lambdadf_rm['name'] != sample_to_rm[0]]\n",
    "\n",
    "print(list(set(lambdadf_rm['name'].tolist())))"
   ]
  },
  {
   "cell_type": "code",
   "execution_count": 14,
   "metadata": {},
   "outputs": [
    {
     "name": "stdout",
     "output_type": "stream",
     "text": [
      "           name          value  F480-TTAACTTCAGCCCGT        Adgre1  \\\n",
      "0  10015CN87_C1  B follicle     57.728315             1.318819e-03   \n",
      "1  10015CN87_C1  Marginal zone  60.038330             5.878256e-03   \n",
      "2  10015CN87_C1  PALS           58.220771             5.884618e-27   \n",
      "3  10015CN87_C1  Red pulp       64.489046             2.236631e-03   \n",
      "4  10015CN87_D1  B follicle     57.605021             1.312925e-03   \n",
      "\n",
      "   F480-TTAACTTCAGCCCGT.norm  Adgre1.norm  \n",
      "0  0.000000                   0.224355     \n",
      "1  0.341681                   1.000000     \n",
      "2  0.072841                   0.000000     \n",
      "3  1.000000                   0.380492     \n",
      "4  0.039467                   0.223981     \n"
     ]
    }
   ],
   "source": [
    "# Take mean per region per sample\n",
    "\n",
    "trans = lambdadf_rm.groupby(['name', 'value'])[ab, gene].mean()\n",
    "\n",
    "trans.reset_index(inplace=True)\n",
    "\n",
    "# Scale min max per sample\n",
    "trans[[ab + '.norm', gene + '.norm']] = trans.groupby(['name'])[ab, gene].transform(lambda x: preprocessing.minmax_scale(x))\n",
    "\n",
    "print(trans.head())"
   ]
  },
  {
   "cell_type": "code",
   "execution_count": 15,
   "metadata": {},
   "outputs": [
    {
     "name": "stdout",
     "output_type": "stream",
     "text": [
      "std err:0.33\n",
      "Spearman's rho: 0.63 pvalue: 0.028\n",
      "Pearson's r: 0.232\n"
     ]
    },
    {
     "data": {
      "image/png": "[encoded data removed]",
      "text/plain": [
       "<Figure size 1080x576 with 1 Axes>"
      ]
     },
     "metadata": {
      "needs_background": "light"
     },
     "output_type": "display_data"
    }
   ],
   "source": [
    "# Plot\n",
    "\n",
    "# initialize a figure\n",
    "fig, ax = plt.subplots(figsize=(15, 8))\n",
    "\n",
    "plot_trans = trans.copy()\n",
    "\n",
    "plot_trans['jitter_y'] = trans[ab + '.norm'] + 0.1 * np.random.rand(len(trans[ab + '.norm'].tolist())) +0.01\n",
    "plot_trans['jitter_x'] = trans[gene + '.norm'] + 0.1 * np.random.rand(len(trans[gene + '.norm'].tolist())) +0.01\n",
    "x = 'jitter_x'\n",
    "y = 'jitter_y'\n",
    "hue = 'value'\n",
    "palette = {'Red pulp':'c', 'B follicle':'m', 'PALS':'y', 'Marginal zone':'k'}\n",
    "data = plot_trans\n",
    "\n",
    "sns.scatterplot(x=x, y=y, data=data, ax=ax, hue=hue, s=50, linewidth=0, palette=palette)\n",
    "\n",
    "# X and Y axis\n",
    "ax.set_xlabel(gene + '.norm')\n",
    "ax.set_ylabel(ab + '.norm')\n",
    "\n",
    "# Calculate the linear regression\n",
    "X = gene + '.norm'\n",
    "Y = ab + '.norm'\n",
    "\n",
    "slope, intercept, r_value, p_value, std_err = linregress(data[X], data[Y])\n",
    "\n",
    "print('std err:' + str(round(std_err, 3)))\n",
    "\n",
    "coef = np.polyfit(data[X],data[y],1)\n",
    "poly1d_fn = np.poly1d(coef)\n",
    "ax.plot(data[X], poly1d_fn(data[X]), c=\"k\")\n",
    "ax.plot(data[X], poly1d_fn(data[X])+std_err, c=\"grey\")\n",
    "ax.plot(data[X], poly1d_fn(data[X])-std_err, c=\"grey\")\n",
    "#ax.errorbar(trans[x], poly1d_fn(trans[x]), yerr=poly1d_fn(trans[x]) - trans[y], fmt='.k')\n",
    "\n",
    "# Spearman's & Pearson's r\n",
    "spear, ps = spearmanr(data[X], data[Y])\n",
    "pear, pp = pearsonr(data[X], data[Y])\n",
    "print(\"Spearman's rho: \" + str(round(spear, 3)) + ' pvalue: ' + str(round(ps, 3)))\n",
    "print(\"Pearson's r: \" + str(round(pear, 3)))\n",
    "\n",
    "ax.text(0.05, 0.9, \"Spearman's rho: \" + str(round(spear, 2)), transform=ax.transAxes, fontsize=15)\n",
    "\n",
    "#ax.get_legend().remove()\n",
    "\n",
    "# title\n",
    "#ax.set_title(region)\n",
    "\n",
    "#ax.set_xlim([0, 1])\n",
    "#ax.set_ylim([0, 1])\n",
    "ax.legend(loc='center left', bbox_to_anchor=(1, 0.5))\n",
    "plt.tight_layout()\n",
    "\n",
    "#plt.savefig(\"/Users/brittalotstedt/Documents/Documents-dhcp-18-40-114-33/data/stdata/manuscript/ST2.5/mRNAvsTAG_F480.pdf\", transparent=True, bbox_inches = 'tight',\n",
    "#    pad_inches = 0, dpi=1200, rasterized=True)"
   ]
  },
  {
   "cell_type": "code",
   "execution_count": null,
   "metadata": {},
   "outputs": [],
   "source": []
  }
 ],
 "metadata": {
  "kernelspec": {
   "display_name": "Python 3",
   "language": "python",
   "name": "python3"
  },
  "language_info": {
   "codemirror_mode": {
    "name": "ipython",
    "version": 3
   },
   "file_extension": ".py",
   "mimetype": "text/x-python",
   "name": "python",
   "nbconvert_exporter": "python",
   "pygments_lexer": "ipython3",
   "version": "3.9.2"
  }
 },
 "nbformat": 4,
 "nbformat_minor": 4
}
