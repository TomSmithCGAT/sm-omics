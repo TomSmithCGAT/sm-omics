{
 "cells": [
  {
   "cell_type": "code",
   "execution_count": 1,
   "metadata": {},
   "outputs": [],
   "source": [
    "import os\n",
    "import glob\n",
    "import anndata\n",
    "import pandas as pd\n",
    "import numpy as np\n",
    "import matplotlib\n",
    "import matplotlib.pyplot as plt\n",
    "from scipy.stats import linregress, spearmanr, pearsonr\n",
    "import math\n",
    "import seaborn as sns\n",
    "from sklearn import preprocessing"
   ]
  },
  {
   "cell_type": "code",
   "execution_count": 2,
   "metadata": {},
   "outputs": [],
   "source": [
    "import warnings\n",
    "warnings.filterwarnings('ignore')"
   ]
  },
  {
   "cell_type": "code",
   "execution_count": 3,
   "metadata": {},
   "outputs": [],
   "source": [
    "def rename_lambdas_index_genes(lambdas_file): \n",
    "    nwe=[]\n",
    "    nm=lambdas_file.index\n",
    "    for item in nm:\n",
    "        nwe.append(str(item).split(\"_\")[0])\n",
    "    return nwe"
   ]
  },
  {
   "cell_type": "code",
   "execution_count": 4,
   "metadata": {},
   "outputs": [],
   "source": [
    "# Load Lambda pmean df\n",
    "path = '../../smomics_data'\n",
    "\n",
    "# Read mRNA\n",
    "filename = os.path.join(\"/Users/svickovi/Desktop/tags/introns\", 'lambdas_pmeans.tsv')\n",
    "lambda_posterior_means = pd.read_csv(filename, index_col=0, sep='\\t', header=[0,1],low_memory=False)\n",
    "lambda_posterior_means.index = rename_lambdas_index_genes(lambda_posterior_means)\n",
    "lambda_posterior_means = lambda_posterior_means.astype(float)\n",
    "lambda_posterior_means = np.exp(lambda_posterior_means-1)\n",
    "\n",
    "filename = os.path.join(\"/Users/svickovi/Desktop/tags/exons\", 'lambdas_pmeans_spleen_exons_mRNA_6tags.tsv')\n",
    "lambda_posterior_means2 = pd.read_csv(filename, index_col=0, sep='\\t', header=[0,1],low_memory=False)\n",
    "lambda_posterior_means2.index = rename_lambdas_index_genes(lambda_posterior_means2)\n",
    "lambda_posterior_means2 = lambda_posterior_means2.astype(float)\n",
    "lambda_posterior_means2 = np.exp(lambda_posterior_means2-1)\n"
   ]
  },
  {
   "cell_type": "code",
   "execution_count": 5,
   "metadata": {},
   "outputs": [],
   "source": [
    "#Read tags\n",
    "filename = os.path.join(path, 'lambdas_pmeans_spleen_exons_tags_6tags.tsv')\n",
    "lambda_posterior_means_tags = pd.read_csv(filename, index_col=0, sep='\\t', header=[0,1],low_memory=False)\n",
    "lambda_posterior_means_tags = lambda_posterior_means_tags.astype(float)\n",
    "lambda_posterior_means_tags = np.exp(lambda_posterior_means_tags-1)\n",
    "lambda_posterior_means_tags.index = [i.split(\"-\")[0]+\"_Totalseq\" for i in lambda_posterior_means_tags.index]"
   ]
  },
  {
   "cell_type": "code",
   "execution_count": 6,
   "metadata": {},
   "outputs": [],
   "source": [
    "#Read ifs\n",
    "filename = os.path.join(path, 'lambdas_pmeans_spleen_exons_ifs_6tags.tsv')\n",
    "lambda_posterior_means_ifs = pd.read_csv(filename, index_col=0, sep='\\t', header=[0,1],low_memory=False)\n",
    "lambda_posterior_means_ifs = lambda_posterior_means_ifs.astype(float)\n",
    "lambda_posterior_means_ifs = np.exp(lambda_posterior_means_ifs-1)\n",
    "lambda_posterior_means_ifs.index = ['F480_IF', 'IgD_IF']"
   ]
  },
  {
   "cell_type": "code",
   "execution_count": 7,
   "metadata": {},
   "outputs": [
    {
     "name": "stdout",
     "output_type": "stream",
     "text": [
      "10015CN87_C1\n",
      "1507\n",
      "402\n",
      "572\n"
     ]
    },
    {
     "name": "stderr",
     "output_type": "stream",
     "text": [
      "Variable names are not unique. To make them unique, call `.var_names_make_unique`.\n",
      "Variable names are not unique. To make them unique, call `.var_names_make_unique`.\n"
     ]
    },
    {
     "name": "stdout",
     "output_type": "stream",
     "text": [
      "10015CN87_D1\n",
      "1044\n",
      "299\n",
      "424\n"
     ]
    },
    {
     "name": "stderr",
     "output_type": "stream",
     "text": [
      "Variable names are not unique. To make them unique, call `.var_names_make_unique`.\n",
      "Variable names are not unique. To make them unique, call `.var_names_make_unique`.\n"
     ]
    },
    {
     "name": "stdout",
     "output_type": "stream",
     "text": [
      "10015CN87_D2\n",
      "1448\n",
      "372\n",
      "470\n"
     ]
    },
    {
     "name": "stderr",
     "output_type": "stream",
     "text": [
      "Variable names are not unique. To make them unique, call `.var_names_make_unique`.\n",
      "Variable names are not unique. To make them unique, call `.var_names_make_unique`.\n"
     ]
    },
    {
     "name": "stdout",
     "output_type": "stream",
     "text": [
      "10015CN87_E2\n",
      "1576\n",
      "459\n",
      "341\n"
     ]
    },
    {
     "name": "stderr",
     "output_type": "stream",
     "text": [
      "Variable names are not unique. To make them unique, call `.var_names_make_unique`.\n",
      "Variable names are not unique. To make them unique, call `.var_names_make_unique`.\n",
      "... storing 'region' as categorical\n",
      "... storing 'feature_types' as categorical\n"
     ]
    }
   ],
   "source": [
    "genes = ['Adgre1', 'Ighd', 'Cd8a', 'Cd4', 'Cd38', 'Cd163']\n",
    "collect_df = []\n",
    "tmp_lambda_output_all = []\n",
    "for count, file in enumerate(np.unique([i.split(\"/\")[-1] for i in lambda_posterior_means.columns.get_level_values(0)])):\n",
    "    \n",
    "    # reads in mRNA counts files\n",
    "    name = file.split(\"_stdata_adjusted.tsv\")[0]\n",
    "    if name == '10015CN87_C2':\n",
    "        continue\n",
    "    if name == '10015CN87_E1':\n",
    "        continue\n",
    "    \n",
    "    counts = pd.read_csv(os.path.join(\"/Users/svickovi/Desktop/tags/introns/Counts_tables\",file), sep = \"\\t\", header = [0], index_col = [0]).T\n",
    "    counts = counts.drop(genes, axis = 1)\n",
    "    \n",
    "    counts2 = pd.read_csv(os.path.join(\"/Users/svickovi/Desktop/tags/exons/counts_exons\",file), sep = \"\\t\", header = [0], index_col = [0]).T\n",
    "    counts2 = counts2[genes]\n",
    "    counts = pd.merge(counts, counts2, left_index = True, right_index = True)\n",
    "    \n",
    "    print(name)\n",
    "    counts.to_csv(os.path.join(path,name+'_stdata_adjusted_new.tsv'), sep = \"\\t\", index = True)\n",
    "    print(round(np.mean(counts.sum(axis = 1))))\n",
    "    print(round(np.std(counts.sum(axis = 1))))\n",
    "    \n",
    "    anns = pd.read_csv(os.path.join(path,name+\"_stdata_adjusted.tsv.annotations.tsv\"), sep = \"\\t\", header = [0], index_col = [0]).T\n",
    "    ann_list = []\n",
    "    coor_list = []\n",
    "    \n",
    "    # gets annotations\n",
    "    for ind, coor in enumerate(anns.index):\n",
    "        ann_list.append(anns.iloc[ind][anns.iloc[ind] == 1].index)\n",
    "        coor_list.append(coor)\n",
    "    anndf = pd.DataFrame(ann_list, index = coor_list, columns = ['region'])\n",
    "    anndf = anndf[~anndf.region.isin(['White pulp'])]\n",
    "    dfmerge = pd.merge(counts, anndf, left_index = True, right_index = True)\n",
    "    features_genes = ['Gene expression']*(len(dfmerge.columns)-1)\n",
    "         \n",
    "    # gets tags or ifs data \n",
    "    tags = pd.read_csv(os.path.join(path,name+\"_stdata_adjusted_tags.tsv\"), sep = \"\\t\", header = [0], index_col = [0]).T\n",
    "    tags.columns = [i.split(\"-\")[0]+\"_Totalseq\" for i in tags.columns]\n",
    "    features_tags = ['Antibody Capture']*len(tags.columns)\n",
    "    dfmerge_tags =  pd.merge(dfmerge, tags, left_index = True, right_index = True) \n",
    "    \n",
    "    # gets IF files \n",
    "    ifs = pd.DataFrame([], index = dfmerge_tags.index)\n",
    "    for ab in [i.split(\"_\")[0] for i in tags.columns]:\n",
    "        if ab in ['F480', 'IgD']:\n",
    "            ifs = pd.merge(ifs, pd.read_csv(os.path.join(path, name+\"_\"+ab+\"_intensitites.tsv\"), sep = \"\\t\", header = [0], index_col = [0]).T, left_index = True, right_index = True)\n",
    "    ifspd = ifs\n",
    "    ifspd = ifspd.replace(np.nan, 0)\n",
    "    ifspd.columns = [i+\"_IF\" for i in ifspd.columns]\n",
    "    #ifspd.T.to_csv(os.path.join(path, name+\"_intensitites.tsv\"), sep = \"\\t\", index = True)\n",
    "    features_ifspd = ['IF Capture']*len(ifspd.columns)\n",
    "    \n",
    "    # merge ifs with rest \n",
    "    dfmerge_all =  pd.merge(dfmerge_tags, ifspd, left_index = True, right_index = True)   \n",
    "    \n",
    "    # merge with normalized mRNA counts \n",
    "    tmp_lambda = lambda_posterior_means[os.path.dirname(lambda_posterior_means.columns.get_level_values(0)[0])+\"/\"+file].T\n",
    "    tmp_lambda = tmp_lambda[tmp_lambda.index.isin(dfmerge_all.index)].reindex(dfmerge_all.index)\n",
    "    tmp_lambda = tmp_lambda.reindex(dfmerge.index, axis=0)\n",
    "    #print(tmp_lambda[genes])\n",
    "    \n",
    "    # merge with normalized mRNA counts \n",
    "    tmp_lambda2 = lambda_posterior_means2[os.path.dirname(lambda_posterior_means2.columns.get_level_values(0)[0])+\"/\"+file].T\n",
    "    tmp_lambda2 = tmp_lambda2[tmp_lambda2.index.isin(tmp_lambda.index)].reindex(tmp_lambda.index)\n",
    "    tmp_lambda2 = tmp_lambda2.reindex(tmp_lambda.index, axis=0)\n",
    "    tmp_lambda2 = tmp_lambda2[genes]\n",
    "    #print(tmp_lambda2)\n",
    "    tmp_lambda = tmp_lambda.drop(genes, axis = 1)\n",
    "    tmp_lambda = pd.merge(tmp_lambda, tmp_lambda2, left_index = True, right_index = True)\n",
    "  \n",
    "    \n",
    "    # merge with normalized tag counts\n",
    "    tag_lambda = lambda_posterior_means_tags[os.path.dirname(lambda_posterior_means_tags.columns.get_level_values(0)[0])+\"/\"+file].T\n",
    "    tag_lambda = tag_lambda[tag_lambda.index.isin(dfmerge_all.index)].reindex(dfmerge_all.index)\n",
    "    tag_lambda = tag_lambda.reindex(dfmerge_tags.index, axis=0)\n",
    "    \n",
    "    # merge with normalized intensities\n",
    "    ifs_lambda = lambda_posterior_means_ifs[os.path.dirname(lambda_posterior_means_ifs.columns.get_level_values(0)[0])+\"/\"+file].T\n",
    "    ifs_lambda = ifs_lambda[ifs_lambda.index.isin(dfmerge_all.index)].reindex(dfmerge_all.index)\n",
    "    ifs_lambda = ifs_lambda.reindex(dfmerge_tags.index, axis=0)  \n",
    "    print(len(ifs_lambda.index))\n",
    "    \n",
    "    # merge counts and annotations and make anndata objects\n",
    "    obs = dfmerge_all['region']\n",
    "    obs.index = [name+\"_\"+i for i in obs.index]\n",
    "    dfmerge_all.drop(['region'], axis = 1, inplace = True)\n",
    "    \n",
    "    # subset to relevant genes/abs\n",
    "#     dfmerge_all = dfmerge_all[['Cd8a', 'Cd4', 'Ighd', 'Adgre1', 'Cd38', 'Cd163']+\n",
    "#                 dfmerge_all.columns[dfmerge_all.columns.str.contains('Totalseq')].to_list()+\n",
    "#                 dfmerge_all.columns[dfmerge_all.columns.str.contains('_IF')].to_list()]\n",
    "#     dfmerge_all.index = [name+\"_\"+i for i in dfmerge_all.index] \n",
    "    \n",
    "    a = anndata.AnnData(X=dfmerge_all.values, obs=pd.DataFrame(obs),)\n",
    "    a.var_names = dfmerge_all.columns\n",
    "    #a.var[\"feature_types\"] = features_genes[0:6]+features_tags+features_ifspd\n",
    "    a.var[\"feature_types\"] = features_genes+features_tags+features_ifspd\n",
    "    a.var_names_make_unique()\n",
    "    a.layers[\"counts\"] = a.X.copy()\n",
    "    a.raw = a.copy()\n",
    "    \n",
    "    # add normalized data\n",
    "    dfmerge_norm =  pd.merge(tmp_lambda, tag_lambda, left_index = True, right_index = True)\n",
    "    dfmerge_norm_ifs = pd.merge(dfmerge_norm, ifs_lambda, left_index = True, right_index = True)\n",
    "    dfmerge_norm_ifs.drop(['coordinate'], axis = 1, inplace = True)\n",
    "    dfmerge_norm_ifs = dfmerge_norm_ifs.dropna(axis = 0)\n",
    "    \n",
    "    # subset to relevant genes/abs\n",
    "#     dfmerge_norm_ifs = dfmerge_norm_ifs[['Cd8a', 'Cd4', 'Ighd', 'Adgre1', 'Cd38', 'Cd163']+\n",
    "#                 dfmerge_norm_ifs.columns[dfmerge_norm_ifs.columns.str.contains('Totalseq')].to_list()+\n",
    "#                 dfmerge_norm_ifs.columns[dfmerge_norm_ifs.columns.str.contains('_IF')].to_list()]\n",
    "    dfmerge_norm_ifs.index = [name+\"_\"+i for i in dfmerge_norm_ifs.index] \n",
    "    \n",
    "    collect_df.append(pd.merge(dfmerge_norm_ifs, a.obs, left_index = True, right_index = True))\n",
    "    \n",
    "    # add norm data to anndatas\n",
    "    a = a[:,dfmerge_norm_ifs.columns]\n",
    "    a = a[dfmerge_norm_ifs.index,:]\n",
    "    a.X = dfmerge_norm_ifs.values\n",
    "    a.var_names_make_unique()\n",
    "    a = a[:,np.sort(a.var_names)]\n",
    "         \n",
    "    # writes out anndatas\n",
    "    if count == 0:\n",
    "        anndatas_all = a\n",
    "    else: \n",
    "        anndatas_all = anndata.AnnData.concatenate(anndatas_all,a,)\n",
    "anndatas_all.obs.index = [i.split(\"-\")[0] for i in anndatas_all.obs.index]\n",
    "anndatas_all.obs.drop('batch', axis = 1, inplace = True)\n",
    "anndatas_all.write_h5ad(filename=os.path.join(path, \"smomics_anndata_6plex.h5ad\"))"
   ]
  },
  {
   "cell_type": "code",
   "execution_count": 8,
   "metadata": {},
   "outputs": [],
   "source": [
    "#write out lambdas\n",
    "mlt = pd.DataFrame([i.split('_')[2]+'_'+i.split('_')[3] for i in anndatas_all.obs.index])\n",
    "mlt['file'] = [lambda_posterior_means2.columns.get_level_values(0)[0]+\"/\"+i.split('_')[0]+'_'+i.split('_')[1]+\"_stdata_adjusted.tsv\" for i in anndatas_all.obs.index]\n",
    "mlt.columns = ['coordinate','file']\n",
    "mlt = mlt[['file', 'coordinate']]\n",
    "df = pd.DataFrame(anndatas_all.X, columns = anndatas_all.var_names, index = anndatas_all.obs.index).T\n",
    "df.columns = mlt.set_index(['file', 'coordinate'], inplace=False).index\n",
    "df.to_csv(os.path.join(path,'lambdas_pmeans_spleen_exons_mRNA_6tags_new.tsv'), sep = \"\\t\", index = True)"
   ]
  },
  {
   "cell_type": "code",
   "execution_count": 9,
   "metadata": {},
   "outputs": [],
   "source": [
    "df = pd.DataFrame(anndatas_all.X, columns = anndatas_all.var_names, index = anndatas_all.obs.index)\n",
    "df = pd.concat(collect_df).dropna(axis=0)\n",
    "region = pd.concat(collect_df).dropna(axis=0)['region']\n",
    "df = df[['Cd8a', 'Cd4', 'Ighd', 'Adgre1', 'Cd38', 'Cd163']+\n",
    "                dfmerge_all.columns[dfmerge_all.columns.str.contains('Totalseq')].to_list()+\n",
    "                 dfmerge_all.columns[dfmerge_all.columns.str.contains('_IF')].to_list()]\n",
    "df['image'] = [i.split(\"_\")[0]+\"_\"+i.split(\"_\")[1] for i in df.index]\n",
    "df['region'] = region.to_list()"
   ]
  },
  {
   "cell_type": "code",
   "execution_count": 10,
   "metadata": {},
   "outputs": [],
   "source": [
    "df = df.groupby(['image','region']).mean()"
   ]
  },
  {
   "cell_type": "code",
   "execution_count": 11,
   "metadata": {},
   "outputs": [],
   "source": [
    "df = df.groupby(['image']).transform(lambda x: preprocessing.minmax_scale(x))"
   ]
  },
  {
   "cell_type": "code",
   "execution_count": 14,
   "metadata": {},
   "outputs": [
    {
     "name": "stdout",
     "output_type": "stream",
     "text": [
      "Adgre1\n",
      "std err:0.261\n",
      "Spearman's rho: 0.68\n",
      "p-value: 0.0040693590847307205\n",
      "Ighd\n",
      "std err:0.192\n",
      "Spearman's rho: 0.56\n",
      "p-value: 0.022644647691194956\n",
      "Cd8a\n",
      "std err:0.151\n",
      "Spearman's rho: 0.64\n",
      "p-value: 0.007664406007758175\n",
      "Cd4\n",
      "std err:0.167\n",
      "Spearman's rho: 0.54\n",
      "p-value: 0.03255544641651107\n",
      "Cd38\n",
      "std err:0.243\n",
      "Spearman's rho: 0.6\n",
      "p-value: 0.013704369253784869\n",
      "Cd163\n",
      "std err:0.271\n",
      "Spearman's rho: -0.42\n",
      "p-value: 0.1082025643089957\n"
     ]
    },
    {
     "data": {
      "image/png": "[encoded data removed]",
      "text/plain": [
       "<Figure size 864x576 with 6 Axes>"
      ]
     },
     "metadata": {
      "needs_background": "light"
     },
     "output_type": "display_data"
    }
   ],
   "source": [
    "# initialize a figure\n",
    "fig = matplotlib.pyplot.figure(figsize=(12, 8))\n",
    "num_cols = 3\n",
    "axes = []\n",
    "\n",
    "for i in range(0,int((int(len(genes)+2)/num_cols))):\n",
    "    for j in range(0, num_cols):\n",
    "        ax = plt.subplot2grid((int((len(genes)+2)/num_cols+1), num_cols), (i, j))\n",
    "        axes.append(ax) \n",
    "\n",
    "genes = ['Adgre1', 'Ighd', 'Cd8a', 'Cd4', 'Cd38', 'Cd163']\n",
    "\n",
    "for count, gene in enumerate(genes):\n",
    "    ax = axes[count]\n",
    "    \n",
    "    if gene == \"Adgre1\":\n",
    "        tag = \"F480_Totalseq\"\n",
    "    if gene == \"Ighd\":\n",
    "        tag = \"IgD_Totalseq\"\n",
    "    if gene == \"Cd8a\":\n",
    "        tag = \"CD8a_Totalseq\"\n",
    "    if gene == \"Cd4\":\n",
    "        tag = \"CD4_Totalseq\"\n",
    "    if gene == \"Cd38\":\n",
    "        tag = \"CD38_Totalseq\"\n",
    "    if gene == \"Cd163\":\n",
    "        tag = \"CD163_Totalseq\"   \n",
    "\n",
    "    plot_trans = df[[gene,tag, ]]\n",
    "    plot_trans['region'] = plot_trans.index.get_level_values(1)\n",
    "    plot_trans = plot_trans[~plot_trans.index.get_level_values(0).isin(['10015CN87D1',])]\n",
    "\n",
    "    plot_trans['jitter_y'] = plot_trans[tag] + 0.05 * np.random.rand(len(plot_trans[tag].tolist())) +0.01\n",
    "    plot_trans['jitter_x'] = plot_trans[gene] + 0.05 * np.random.rand(len(plot_trans[gene].tolist())) +0.01\n",
    "    x = 'jitter_x'\n",
    "    y = 'jitter_y'\n",
    "    hue = 'region'\n",
    "    palette = {'Red pulp':'c', 'B follicle':'m', 'PALS':'y', 'Marginal zone':'k', 'White pulp':'r', 'IGDpos':'b'}\n",
    "    data = plot_trans\n",
    "\n",
    "    sns.scatterplot(x=x, y=y, data=data, ax=ax, hue=hue, s=50, linewidth=0, palette=palette)\n",
    "\n",
    "    # Calculate the linear regression\n",
    "    X = gene\n",
    "    Y = tag\n",
    "\n",
    "    slope, intercept, r_value, p_value, std_err = linregress(data[X], data[Y])\n",
    "\n",
    "    print(gene)\n",
    "    print('std err:' + str(round(std_err, 3)))\n",
    "\n",
    "    coef = np.polyfit(data[X],data[y],1)\n",
    "    poly1d_fn = np.poly1d(coef)\n",
    "    ax.plot(data[X], poly1d_fn(data[X]), c=\"k\")\n",
    "    ax.plot(data[X], poly1d_fn(data[X])+std_err, c=\"grey\")\n",
    "    ax.plot(data[X], poly1d_fn(data[X])-std_err, c=\"grey\")\n",
    "    #ax.errorbar(trans[x], poly1d_fn(trans[x]), yerr=poly1d_fn(trans[x]) - trans[y], fmt='.k')\n",
    "\n",
    "    # Spearman's & Pearson's r\n",
    "    spear, ps = spearmanr(data[X], data[Y])\n",
    "    pear, pp = pearsonr(data[X], data[Y])\n",
    "    print(\"Spearman's rho: \" + str(round(spear, 2)))\n",
    "    print(\"p-value: \" + str(ps))\n",
    "\n",
    "    ax.text(0.05, 0.9, \"Spearman's rho: \" + str(round(spear, 2)), transform=ax.transAxes, fontsize=10)\n",
    "    ax.text(0.05, 0.8, \"p-value: \" + str(round(ps, 5)), transform=ax.transAxes, fontsize=10)\n",
    "    #ax.get_legend().remove()\n",
    "\n",
    "    # title\n",
    "    ax.set_title(gene)\n",
    "\n",
    "    ax.set_xlim([-0.05, 1.05])\n",
    "    ax.set_ylim([-0.05, 1.05])\n",
    "    ax.legend(loc='center left', bbox_to_anchor=(1, 0.5))\n",
    "    plt.tight_layout()\n",
    "\n"
   ]
  },
  {
   "cell_type": "code",
   "execution_count": null,
   "metadata": {},
   "outputs": [],
   "source": []
  }
 ],
 "metadata": {
  "kernelspec": {
   "display_name": "Python 3",
   "language": "python",
   "name": "python3"
  },
  "language_info": {
   "codemirror_mode": {
    "name": "ipython",
    "version": 3
   },
   "file_extension": ".py",
   "mimetype": "text/x-python",
   "name": "python",
   "nbconvert_exporter": "python",
   "pygments_lexer": "ipython3",
   "version": "3.7.6"
  }
 },
 "nbformat": 4,
 "nbformat_minor": 4
}
