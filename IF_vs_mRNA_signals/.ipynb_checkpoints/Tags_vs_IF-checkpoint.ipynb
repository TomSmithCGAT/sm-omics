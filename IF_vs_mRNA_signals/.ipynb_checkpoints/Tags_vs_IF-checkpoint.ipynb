{
 "cells": [
  {
   "cell_type": "markdown",
   "metadata": {},
   "source": [
    "Plot the correlation between IF signal and transcriptome signal.\n",
    "\n",
    "\n",
    "Using Splotch covarites files as annotation files"
   ]
  },
  {
   "cell_type": "code",
   "execution_count": 1,
   "metadata": {},
   "outputs": [],
   "source": [
    "import os\n",
    "import matplotlib\n",
    "import matplotlib.pyplot as plt\n",
    "import pandas as pd\n",
    "from sklearn import preprocessing\n",
    "from scipy.stats import linregress, spearmanr, pearsonr\n",
    "import numpy as np\n",
    "import math\n",
    "import seaborn as sns\n",
    "%matplotlib inline\n",
    "matplotlib.rcParams.update({'axes.linewidth': 0.25,\n",
    "                            'xtick.major.size': 2,\n",
    "                            'xtick.major.width': 0.25,\n",
    "                            'ytick.major.size': 2,\n",
    "                            'ytick.major.width': 0.25,\n",
    "                            'pdf.fonttype': 42,\n",
    "                            'font.sans-serif': 'Arial',\n",
    "                           'ps.fonttype':42})"
   ]
  },
  {
   "cell_type": "code",
   "execution_count": 2,
   "metadata": {},
   "outputs": [],
   "source": [
    "import warnings\n",
    "warnings.filterwarnings('ignore')"
   ]
  },
  {
   "cell_type": "code",
   "execution_count": 3,
   "metadata": {},
   "outputs": [],
   "source": [
    "path = '../../smomics_data'\n"
   ]
  },
  {
   "cell_type": "markdown",
   "metadata": {},
   "source": [
    "# tags"
   ]
  },
  {
   "cell_type": "code",
   "execution_count": 4,
   "metadata": {},
   "outputs": [],
   "source": [
    "# Load Lambda file\n",
    "filename = os.path.join(path, 'lambdas_pmeans_spleen_exons_tags_2tags.tsv')\n",
    "lambda_posterior_means = pd.read_csv(filename, index_col=0, sep='\\t', header=[0,1])"
   ]
  },
  {
   "cell_type": "code",
   "execution_count": 5,
   "metadata": {
    "scrolled": true
   },
   "outputs": [],
   "source": [
    "# Take exp()\n",
    "lambda_posterior_means = lambda_posterior_means.astype(float)\n",
    "lambda_posterior_means = np.exp(lambda_posterior_means-1)"
   ]
  },
  {
   "cell_type": "code",
   "execution_count": 6,
   "metadata": {},
   "outputs": [],
   "source": [
    "nwe=[]\n",
    "nm=lambda_posterior_means.index\n",
    "for item in nm:\n",
    "    nwe.append(str(item).split(\"-\")[0])\n",
    "lambda_posterior_means.index = nwe"
   ]
  },
  {
   "cell_type": "code",
   "execution_count": 14,
   "metadata": {},
   "outputs": [
    {
     "data": {
      "text/plain": [
       "['10015CN77_C1', '10015CN77_D1', '10015CN77_E1']"
      ]
     },
     "execution_count": 14,
     "metadata": {},
     "output_type": "execute_result"
    }
   ],
   "source": []
  },
  {
   "cell_type": "markdown",
   "metadata": {},
   "source": [
    "# Annotation"
   ]
  },
  {
   "cell_type": "code",
   "execution_count": 15,
   "metadata": {
    "scrolled": true
   },
   "outputs": [
    {
     "name": "stdout",
     "output_type": "stream",
     "text": [
      "         value    x_y         image\n",
      "3   Red pulp    29_12  10015CN77_C1\n",
      "4   B follicle  16_30  10015CN77_C1\n",
      "11  Red pulp    15_15  10015CN77_C1\n",
      "15  Red pulp    18_8   10015CN77_C1\n",
      "18  PALS        19_10  10015CN77_C1\n"
     ]
    }
   ],
   "source": [
    "annot_list = []\n",
    "\n",
    "for stdata in [i.split(\"/\")[-1].split(\"_stdata_adjusted.tsv\")[0] for i in np.unique(lambda_posterior_means.columns.get_level_values(0))]:\n",
    "    \n",
    "    well = stdata\n",
    "    \n",
    "    filename = os.path.join(path, well + '_stdata_adjusted.tsv.annotations.tsv')\n",
    "\n",
    "    annot_file = pd.read_csv(filename, sep = '\\t')\n",
    "    annot_file = pd.melt(annot_file, id_vars='Unnamed: 0')\n",
    "    annot_file = annot_file[annot_file['value'] != 0]\n",
    "    annot_file['image'] = well\n",
    "    annot_file.drop(['value'], axis=1, inplace=True)\n",
    "    annot_file.rename(columns = {'Unnamed: 0':'value', 'variable':'x_y'}, inplace=True)\n",
    "\n",
    "    annot_list.append(annot_file)\n",
    "    \n",
    "# Concat\n",
    "annotdf = pd.concat(annot_list)\n",
    "\n",
    "print(annotdf.head())\n"
   ]
  },
  {
   "cell_type": "code",
   "execution_count": 16,
   "metadata": {},
   "outputs": [],
   "source": [
    "# Select gene\n",
    "collect_merged = {}\n",
    "pd.set_option('display.max_colwidth', -1)\n",
    "genes = ['F480', 'IgD',]\n",
    "\n",
    "collect_genes = {}\n",
    "for gene in genes:\n",
    "    # subset all genes\n",
    "    \n",
    "    if not gene in lambda_posterior_means.index:\n",
    "        continue\n",
    "    \n",
    "    lambda_gene = lambda_posterior_means.loc[gene, :].to_frame().reset_index()\n",
    "    lambda_gene =  lambda_gene[(lambda_gene[gene] > np.percentile(lambda_gene[gene].values,0.5)) & (lambda_gene[gene] < np.percentile(lambda_gene[gene].values,100))]\n",
    "    \n",
    "    # Get name of file, for plotting\n",
    "    lambda_gene['name'] = lambda_gene['file'].str.split('/').str[-1].str.split('_stdata').str[0]\n",
    "\n",
    "    collect_genes[gene] = lambda_gene\n",
    "\n",
    "    #collect intensities per gene \n",
    "    ab = gene\n",
    "    samples = list(set(lambda_gene['name'].tolist()))\n",
    "    ab_list = []\n",
    "    for well in samples:\n",
    "\n",
    "        filename = os.path.join(path, well + '_' + ab + '_intensitites.tsv')\n",
    "\n",
    "        file = pd.read_csv(filename, sep = '\\t')\n",
    "\n",
    "        spot_coord = []\n",
    "\n",
    "        # if spot coordinates in float...\n",
    "        if len(list(file)[0].split('.')) == 3:\n",
    "            for spots in list(file):\n",
    "                spot_tmp = [ float(elem) for elem in spots.split('_') ]\n",
    "                spot_tmp2 = [ round(elem, 0) for elem in spot_tmp ]\n",
    "                spot_tmp3 = [ int(elem) for elem in spot_tmp2 ]\n",
    "\n",
    "                new_spot_coord = str(spot_tmp3[0]) + '_' + str(spot_tmp3[1])\n",
    "                spot_coord.append(new_spot_coord)\n",
    "        else:\n",
    "            for spots in list(file):\n",
    "                spots_tmp = spots.split('_')\n",
    "                new_spot_coord = str(spots_tmp[0]) + '_' + str(spots_tmp[1])   \n",
    "                spot_coord.append(new_spot_coord)\n",
    "\n",
    "        file.columns = spot_coord\n",
    "\n",
    "        filemelt = pd.melt(file)\n",
    "        filemelt['name'] = well\n",
    "        filemelt.columns = ['coordinate', ab+\".IF\", 'name']\n",
    "\n",
    "        ab_list.append(filemelt)\n",
    "\n",
    "    abfile = pd.concat(ab_list)\n",
    "\n",
    "    lambdadfTMP = pd.merge(lambda_gene, abfile,  how='left', on=['name','coordinate'])\n",
    "    lambdadf = pd.merge(lambdadfTMP, annotdf, how='left', left_on=['name','coordinate'], right_on=['image', 'x_y'])\n",
    "    \n",
    "    # Only lok at specific regions\n",
    "    #lambdadf_rm = lambdadf[lambdadf['value'].isin(['Red pulp', 'B follicle', 'PALS', 'Marginal zone'])]\n",
    "\n",
    "    # Take mean per region per sample\n",
    "\n",
    "    #trans = lambdadf_rm.groupby(['name', 'value'])[ab, gene].mean()\n",
    "    trans = lambdadf.groupby(['name', 'value'])[ab+\".IF\", gene].mean()\n",
    "\n",
    "    trans.reset_index(inplace=True)\n",
    "\n",
    "    # Scale min max per sample\n",
    "    trans[[ab+\".IF.norm\", gene + '.norm']] = trans.groupby(['name'])[ab+\".IF\", gene].transform(lambda x: preprocessing.minmax_scale(x))\n",
    "\n",
    "    collect_merged[gene] = trans"
   ]
  },
  {
   "cell_type": "code",
   "execution_count": 17,
   "metadata": {},
   "outputs": [
    {
     "name": "stdout",
     "output_type": "stream",
     "text": [
      "F480\n",
      "std err:0.14\n",
      "Spearman's rho: 0.77\n",
      "p-value: 0.0037360556186627563\n",
      "IgD\n",
      "std err:0.241\n",
      "Spearman's rho: 0.78\n",
      "p-value: 0.0029467821871401478\n"
     ]
    },
    {
     "data": {
      "image/png": "[encoded data removed]",
      "text/plain": [
       "<Figure size 432x432 with 2 Axes>"
      ]
     },
     "metadata": {
      "needs_background": "light"
     },
     "output_type": "display_data"
    }
   ],
   "source": [
    "# initialize a figure\n",
    "fig = matplotlib.pyplot.figure(figsize=(6, 6))\n",
    "num_cols = 1\n",
    "axes = []\n",
    "\n",
    "for i in range(0,int((int(len(genes))/num_cols))):\n",
    "    for j in range(0, num_cols):\n",
    "        ax = plt.subplot2grid((int((len(genes))/num_cols+1), num_cols), (i, j))\n",
    "        axes.append(ax) \n",
    "for count, gene in enumerate(collect_merged):\n",
    "\n",
    "    ax = axes[count]\n",
    "    plot_trans = collect_merged[gene]\n",
    "    \n",
    "    tag = gene\n",
    "    \n",
    "    if not tag + '.norm' in plot_trans.columns:\n",
    "        continue\n",
    "\n",
    "    plot_trans['jitter_y'] = plot_trans[tag + '.IF.norm'] + 0.05 * np.random.rand(len(plot_trans[tag + '.IF.norm'].tolist())) +0.01\n",
    "    plot_trans['jitter_x'] = plot_trans[gene + '.norm'] + 0.05 * np.random.rand(len(plot_trans[gene + '.norm'].tolist())) +0.01\n",
    "    x = 'jitter_x'\n",
    "    y = 'jitter_y'\n",
    "    hue = 'value'\n",
    "    palette = {'Red pulp':'c', 'B follicle':'m', 'PALS':'y', 'Marginal zone':'k', 'White pulp':'r', 'IGDpos':'b'}\n",
    "    data = plot_trans\n",
    "\n",
    "    sns.scatterplot(x=x, y=y, data=data, ax=ax, hue=hue, s=50, linewidth=0, palette=palette)\n",
    "\n",
    "    # X and Y axis\n",
    "    ax.set_xlabel(gene + '.norm')\n",
    "    ax.set_ylabel(tag + '.IF.norm')\n",
    "\n",
    "    # Calculate the linear regression\n",
    "    X = gene + '.norm'\n",
    "    Y = tag + '.IF.norm'\n",
    "\n",
    "    slope, intercept, r_value, p_value, std_err = linregress(data[X], data[Y])\n",
    "\n",
    "    print(gene)\n",
    "    print('std err:' + str(round(std_err, 3)))\n",
    "\n",
    "    coef = np.polyfit(data[X],data[y],1)\n",
    "    poly1d_fn = np.poly1d(coef)\n",
    "    ax.plot(data[X], poly1d_fn(data[X]), c=\"k\")\n",
    "    ax.plot(data[X], poly1d_fn(data[X])+std_err, c=\"grey\")\n",
    "    ax.plot(data[X], poly1d_fn(data[X])-std_err, c=\"grey\")\n",
    "    #ax.errorbar(trans[x], poly1d_fn(trans[x]), yerr=poly1d_fn(trans[x]) - trans[y], fmt='.k')\n",
    "\n",
    "    # Spearman's & Pearson's r\n",
    "    spear, ps = spearmanr(data[X], data[Y])\n",
    "    pear, pp = pearsonr(data[X], data[Y])\n",
    "    print(\"Spearman's rho: \" + str(round(spear, 2)))\n",
    "    print(\"p-value: \" + str(ps))\n",
    "\n",
    "    ax.text(0.05, 0.9, \"Spearman's rho: \" + str(round(spear, 2)), transform=ax.transAxes, fontsize=10)\n",
    "    ax.text(0.05, 0.8, \"p-value: \" + str(round(ps, 5)), transform=ax.transAxes, fontsize=10)\n",
    "    #ax.get_legend().remove()\n",
    "\n",
    "    # title\n",
    "    ax.set_title(gene)\n",
    "\n",
    "    ax.set_xlim([-0.05, 1.05])\n",
    "    ax.set_ylim([-0.05, 1.05])\n",
    "    ax.legend(loc='center left', bbox_to_anchor=(1, 0.5))\n",
    "    plt.tight_layout()\n",
    "\n",
    "plt.savefig(\"../../figures/sm_IF_vs_tags.pdf\", transparent=True, bbox_inches = 'tight',\n",
    "   pad_inches = 0, dpi=1200, rasterized=True)"
   ]
  },
  {
   "cell_type": "code",
   "execution_count": null,
   "metadata": {},
   "outputs": [],
   "source": []
  }
 ],
 "metadata": {
  "kernelspec": {
   "display_name": "Python 3",
   "language": "python",
   "name": "python3"
  },
  "language_info": {
   "codemirror_mode": {
    "name": "ipython",
    "version": 3
   },
   "file_extension": ".py",
   "mimetype": "text/x-python",
   "name": "python",
   "nbconvert_exporter": "python",
   "pygments_lexer": "ipython3",
   "version": "3.7.6"
  }
 },
 "nbformat": 4,
 "nbformat_minor": 4
}
